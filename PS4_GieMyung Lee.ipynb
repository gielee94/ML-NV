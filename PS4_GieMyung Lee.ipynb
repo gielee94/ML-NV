{
 "cells": [
  {
   "cell_type": "markdown",
   "id": "fc79fcc4",
   "metadata": {},
   "source": [
    "# Problem Set4\n",
    "## GieMyung Lee"
   ]
  },
  
  {
   "cell_type": "markdown",
   "id": "8ba6e8cc",
   "metadata": {},
   "source": [
    "I found a Fake news dataset that can be analyzed with multinomial Naive Bayes classification. In dataset, there are two csv files, Fake.csv and True.csv. I am going to create a label for Fake and True csv files and combine them into one csv file. \n",
    "Both file has title, text, subject and date, and last updated two years ago. I tried to figure out how the data was collected, but there weren't specific description or any linked source.\n",
    "\n",]
  },
  {
   "cell_type": "code",
   "execution_count": 1,
   "id": "1b7b6f10",
   "metadata": {},
   "outputs": [],
   "source": [
    "import numpy as np, pandas as pd\n",
    "import seaborn as sns, matplotlib.pyplot as plt\n",
    "\n",
    "from sklearn.model_selection import train_test_split\n",
    "from sklearn.feature_extraction.text import TfidfVectorizer\n",
    "from sklearn.metrics import accuracy_score, confusion_matrix\n",
    "\n",
    "import re\n",
    "import nltk\n",
    "from nltk.corpus import stopwords\n",
    "from nltk.stem.porter import PorterStemmer\n",
    "from nltk.stem import WordNetLemmatizer\n",
    "from nltk.tokenize import word_tokenize"
   ]
  },
  {
   "cell_type": "code",
   "execution_count": 7,
   "id": "eaaeee23",
   "metadata": {},
   "outputs": [
    {
     "data": {
      "text/html": [
       "<div>\n",
       "<style scoped>\n",
       "    .dataframe tbody tr th:only-of-type {\n",
       "        vertical-align: middle;\n",
       "    }\n",
       "\n",
       "    .dataframe tbody tr th {\n",
       "        vertical-align: top;\n",
       "    }\n",
       "\n",
       "    .dataframe thead th {\n",
       "        text-align: right;\n",
       "    }\n",
       "</style>\n",
       "<table border=\"1\" class=\"dataframe\">\n",
       "  <thead>\n",
       "    <tr style=\"text-align: right;\">\n",
       "      <th></th>\n",
       "      <th>title</th>\n",
       "      <th>text</th>\n",
       "      <th>subject</th>\n",
       "      <th>date</th>\n",
       "    </tr>\n",
       "  </thead>\n",
       "  <tbody>\n",
       "    <tr>\n",
       "      <th>0</th>\n",
       "      <td>As U.S. budget fight looms, Republicans flip t...</td>\n",
       "      <td>WASHINGTON (Reuters) - The head of a conservat...</td>\n",
       "      <td>politicsNews</td>\n",
       "      <td>December 31, 2017</td>\n",
       "    </tr>\n",
       "    <tr>\n",
       "      <th>1</th>\n",
       "      <td>U.S. military to accept transgender recruits o...</td>\n",
       "      <td>WASHINGTON (Reuters) - Transgender people will...</td>\n",
       "      <td>politicsNews</td>\n",
       "      <td>December 29, 2017</td>\n",
       "    </tr>\n",
       "    <tr>\n",
       "      <th>2</th>\n",
       "      <td>Senior U.S. Republican senator: 'Let Mr. Muell...</td>\n",
       "      <td>WASHINGTON (Reuters) - The special counsel inv...</td>\n",
       "      <td>politicsNews</td>\n",
       "      <td>December 31, 2017</td>\n",
       "    </tr>\n",
       "    <tr>\n",
       "      <th>3</th>\n",
       "      <td>FBI Russia probe helped by Australian diplomat...</td>\n",
       "      <td>WASHINGTON (Reuters) - Trump campaign adviser ...</td>\n",
       "      <td>politicsNews</td>\n",
       "      <td>December 30, 2017</td>\n",
       "    </tr>\n",
       "    <tr>\n",
       "      <th>4</th>\n",
       "      <td>Trump wants Postal Service to charge 'much mor...</td>\n",
       "      <td>SEATTLE/WASHINGTON (Reuters) - President Donal...</td>\n",
       "      <td>politicsNews</td>\n",
       "      <td>December 29, 2017</td>\n",
       "    </tr>\n",
       "  </tbody>\n",
       "</table>\n",
       "</div>"
      ],
      "text/plain": [
       "                                               title  \\\n",
       "0  As U.S. budget fight looms, Republicans flip t...   \n",
       "1  U.S. military to accept transgender recruits o...   \n",
       "2  Senior U.S. Republican senator: 'Let Mr. Muell...   \n",
       "3  FBI Russia probe helped by Australian diplomat...   \n",
       "4  Trump wants Postal Service to charge 'much mor...   \n",
       "\n",
       "                                                text       subject  \\\n",
       "0  WASHINGTON (Reuters) - The head of a conservat...  politicsNews   \n",
       "1  WASHINGTON (Reuters) - Transgender people will...  politicsNews   \n",
       "2  WASHINGTON (Reuters) - The special counsel inv...  politicsNews   \n",
       "3  WASHINGTON (Reuters) - Trump campaign adviser ...  politicsNews   \n",
       "4  SEATTLE/WASHINGTON (Reuters) - President Donal...  politicsNews   \n",
       "\n",
       "                 date  \n",
       "0  December 31, 2017   \n",
       "1  December 29, 2017   \n",
       "2  December 31, 2017   \n",
       "3  December 30, 2017   \n",
       "4  December 29, 2017   "
      ]
     },
     "execution_count": 7,
     "metadata": {},
     "output_type": "execute_result"
    }
   ],
   "source": [
    "real_df.head()"
   ]
  },
  {
   "cell_type": "code",
   "execution_count": 8,
   "id": "fb563511",
   "metadata": {},
   "outputs": [
    {
     "data": {
      "text/html": [
       "<div>\n",
       "<style scoped>\n",
       "    .dataframe tbody tr th:only-of-type {\n",
       "        vertical-align: middle;\n",
       "    }\n",
       "\n",
       "    .dataframe tbody tr th {\n",
       "        vertical-align: top;\n",
       "    }\n",
       "\n",
       "    .dataframe thead th {\n",
       "        text-align: right;\n",
       "    }\n",
       "</style>\n",
       "<table border=\"1\" class=\"dataframe\">\n",
       "  <thead>\n",
       "    <tr style=\"text-align: right;\">\n",
       "      <th></th>\n",
       "      <th>title</th>\n",
       "      <th>text</th>\n",
       "      <th>subject</th>\n",
       "      <th>date</th>\n",
       "    </tr>\n",
       "  </thead>\n",
       "  <tbody>\n",
       "    <tr>\n",
       "      <th>0</th>\n",
       "      <td>Donald Trump Sends Out Embarrassing New Year’...</td>\n",
       "      <td>Donald Trump just couldn t wish all Americans ...</td>\n",
       "      <td>News</td>\n",
       "      <td>December 31, 2017</td>\n",
       "    </tr>\n",
       "    <tr>\n",
       "      <th>1</th>\n",
       "      <td>Drunk Bragging Trump Staffer Started Russian ...</td>\n",
       "      <td>House Intelligence Committee Chairman Devin Nu...</td>\n",
       "      <td>News</td>\n",
       "      <td>December 31, 2017</td>\n",
       "    </tr>\n",
       "    <tr>\n",
       "      <th>2</th>\n",
       "      <td>Sheriff David Clarke Becomes An Internet Joke...</td>\n",
       "      <td>On Friday, it was revealed that former Milwauk...</td>\n",
       "      <td>News</td>\n",
       "      <td>December 30, 2017</td>\n",
       "    </tr>\n",
       "    <tr>\n",
       "      <th>3</th>\n",
       "      <td>Trump Is So Obsessed He Even Has Obama’s Name...</td>\n",
       "      <td>On Christmas day, Donald Trump announced that ...</td>\n",
       "      <td>News</td>\n",
       "      <td>December 29, 2017</td>\n",
       "    </tr>\n",
       "    <tr>\n",
       "      <th>4</th>\n",
       "      <td>Pope Francis Just Called Out Donald Trump Dur...</td>\n",
       "      <td>Pope Francis used his annual Christmas Day mes...</td>\n",
       "      <td>News</td>\n",
       "      <td>December 25, 2017</td>\n",
       "    </tr>\n",
       "  </tbody>\n",
       "</table>\n",
       "</div>"
      ],
      "text/plain": [
       "                                               title  \\\n",
       "0   Donald Trump Sends Out Embarrassing New Year’...   \n",
       "1   Drunk Bragging Trump Staffer Started Russian ...   \n",
       "2   Sheriff David Clarke Becomes An Internet Joke...   \n",
       "3   Trump Is So Obsessed He Even Has Obama’s Name...   \n",
       "4   Pope Francis Just Called Out Donald Trump Dur...   \n",
       "\n",
       "                                                text subject  \\\n",
       "0  Donald Trump just couldn t wish all Americans ...    News   \n",
       "1  House Intelligence Committee Chairman Devin Nu...    News   \n",
       "2  On Friday, it was revealed that former Milwauk...    News   \n",
       "3  On Christmas day, Donald Trump announced that ...    News   \n",
       "4  Pope Francis used his annual Christmas Day mes...    News   \n",
       "\n",
       "                date  \n",
       "0  December 31, 2017  \n",
       "1  December 31, 2017  \n",
       "2  December 30, 2017  \n",
       "3  December 29, 2017  \n",
       "4  December 25, 2017  "
      ]
     },
     "execution_count": 8,
     "metadata": {},
     "output_type": "execute_result"
    }
   ],
   "source": [
    "fake_df.head()"
   ]
  },
  {
   "cell_type": "markdown",
   "id": "9cc86556",
   "metadata": {},
   "source": [
    "#### Define a research question. What are you trying to predict? Describe what you're trying to accomplish (it will differ between Supervised and Unsupervised learning). (4pts)"
   ]
  },
  
  {
   "cell_type": "markdown",
   "id": "84afd2aa",
   "metadata": {},
   "source": [
    "Machine learning techniques, such as the naive Bayes algorithm, can be employed to automate the detection of fake news, resulting in a faster and more efficient identification of potentially misleading or inaccurate content. This, in turn, can contribute to preventing the dissemination of false information and enhancing the general quality of news reporting."
   ]
  },

  {
   "cell_type": "code",
   "execution_count": 172,
   "id": "8e7792c1",
   "metadata": {},
   "outputs": [],
   "source": [
    "import numpy as np, pandas as pd"
   ]
  },
  {
   "cell_type": "code",
   "execution_count": 10,
   "id": "d8965739",
   "metadata": {},
   "outputs": [],
   "source": [
    "fake_df = pd.read_csv(\"Fake.csv\")\n",
    "real_df = pd.read_csv(\"True.csv\")\n",
    "#rename True to real."
   ]
  },
  {
   "cell_type": "code",
   "execution_count": 16,
   "id": "8671fe54",
   "metadata": {},
   "outputs": [
    {
     "data": {
      "text/html": [
       "<div>\n",
       "<style scoped>\n",
       "    .dataframe tbody tr th:only-of-type {\n",
       "        vertical-align: middle;\n",
       "    }\n",
       "\n",
       "    .dataframe tbody tr th {\n",
       "        vertical-align: top;\n",
       "    }\n",
       "\n",
       "    .dataframe thead th {\n",
       "        text-align: right;\n",
       "    }\n",
       "</style>\n",
       "<table border=\"1\" class=\"dataframe\">\n",
       "  <thead>\n",
       "    <tr style=\"text-align: right;\">\n",
       "      <th></th>\n",
       "      <th>title</th>\n",
       "      <th>text</th>\n",
       "      <th>subject</th>\n",
       "      <th>date</th>\n",
       "      <th>label</th>\n",
       "    </tr>\n",
       "  </thead>\n",
       "  <tbody>\n",
       "    <tr>\n",
       "      <th>0</th>\n",
       "      <td>Donald Trump Sends Out Embarrassing New Year’...</td>\n",
       "      <td>Donald Trump just couldn t wish all Americans ...</td>\n",
       "      <td>News</td>\n",
       "      <td>December 31, 2017</td>\n",
       "      <td>0</td>\n",
       "    </tr>\n",
       "    <tr>\n",
       "      <th>1</th>\n",
       "      <td>Drunk Bragging Trump Staffer Started Russian ...</td>\n",
       "      <td>House Intelligence Committee Chairman Devin Nu...</td>\n",
       "      <td>News</td>\n",
       "      <td>December 31, 2017</td>\n",
       "      <td>0</td>\n",
       "    </tr>\n",
       "    <tr>\n",
       "      <th>2</th>\n",
       "      <td>Sheriff David Clarke Becomes An Internet Joke...</td>\n",
       "      <td>On Friday, it was revealed that former Milwauk...</td>\n",
       "      <td>News</td>\n",
       "      <td>December 30, 2017</td>\n",
       "      <td>0</td>\n",
       "    </tr>\n",
       "    <tr>\n",
       "      <th>3</th>\n",
       "      <td>Trump Is So Obsessed He Even Has Obama’s Name...</td>\n",
       "      <td>On Christmas day, Donald Trump announced that ...</td>\n",
       "      <td>News</td>\n",
       "      <td>December 29, 2017</td>\n",
       "      <td>0</td>\n",
       "    </tr>\n",
       "    <tr>\n",
       "      <th>4</th>\n",
       "      <td>Pope Francis Just Called Out Donald Trump Dur...</td>\n",
       "      <td>Pope Francis used his annual Christmas Day mes...</td>\n",
       "      <td>News</td>\n",
       "      <td>December 25, 2017</td>\n",
       "      <td>0</td>\n",
       "    </tr>\n",
       "  </tbody>\n",
       "</table>\n",
       "</div>"
      ],
      "text/plain": [
       "                                               title  \\\n",
       "0   Donald Trump Sends Out Embarrassing New Year’...   \n",
       "1   Drunk Bragging Trump Staffer Started Russian ...   \n",
       "2   Sheriff David Clarke Becomes An Internet Joke...   \n",
       "3   Trump Is So Obsessed He Even Has Obama’s Name...   \n",
       "4   Pope Francis Just Called Out Donald Trump Dur...   \n",
       "\n",
       "                                                text subject  \\\n",
       "0  Donald Trump just couldn t wish all Americans ...    News   \n",
       "1  House Intelligence Committee Chairman Devin Nu...    News   \n",
       "2  On Friday, it was revealed that former Milwauk...    News   \n",
       "3  On Christmas day, Donald Trump announced that ...    News   \n",
       "4  Pope Francis used his annual Christmas Day mes...    News   \n",
       "\n",
       "                date  label  \n",
       "0  December 31, 2017      0  \n",
       "1  December 31, 2017      0  \n",
       "2  December 30, 2017      0  \n",
       "3  December 29, 2017      0  \n",
       "4  December 25, 2017      0  "
      ]
     },
     "execution_count": 16,
     "metadata": {},
     "output_type": "execute_result"
    }
   ],
   "source": [
    "fake_df.head()"
   ]
  },
  {
   "cell_type": "code",
   "execution_count": 15,
   "id": "c776341c",
   "metadata": {},
   "outputs": [
    {
     "data": {
      "text/html": [
       "<div>\n",
       "<style scoped>\n",
       "    .dataframe tbody tr th:only-of-type {\n",
       "        vertical-align: middle;\n",
       "    }\n",
       "\n",
       "    .dataframe tbody tr th {\n",
       "        vertical-align: top;\n",
       "    }\n",
       "\n",
       "    .dataframe thead th {\n",
       "        text-align: right;\n",
       "    }\n",
       "</style>\n",
       "<table border=\"1\" class=\"dataframe\">\n",
       "  <thead>\n",
       "    <tr style=\"text-align: right;\">\n",
       "      <th></th>\n",
       "      <th>title</th>\n",
       "      <th>text</th>\n",
       "      <th>subject</th>\n",
       "      <th>date</th>\n",
       "      <th>label</th>\n",
       "    </tr>\n",
       "  </thead>\n",
       "  <tbody>\n",
       "    <tr>\n",
       "      <th>0</th>\n",
       "      <td>As U.S. budget fight looms, Republicans flip t...</td>\n",
       "      <td>WASHINGTON (Reuters) - The head of a conservat...</td>\n",
       "      <td>politicsNews</td>\n",
       "      <td>December 31, 2017</td>\n",
       "      <td>1</td>\n",
       "    </tr>\n",
       "    <tr>\n",
       "      <th>1</th>\n",
       "      <td>U.S. military to accept transgender recruits o...</td>\n",
       "      <td>WASHINGTON (Reuters) - Transgender people will...</td>\n",
       "      <td>politicsNews</td>\n",
       "      <td>December 29, 2017</td>\n",
       "      <td>1</td>\n",
       "    </tr>\n",
       "    <tr>\n",
       "      <th>2</th>\n",
       "      <td>Senior U.S. Republican senator: 'Let Mr. Muell...</td>\n",
       "      <td>WASHINGTON (Reuters) - The special counsel inv...</td>\n",
       "      <td>politicsNews</td>\n",
       "      <td>December 31, 2017</td>\n",
       "      <td>1</td>\n",
       "    </tr>\n",
       "    <tr>\n",
       "      <th>3</th>\n",
       "      <td>FBI Russia probe helped by Australian diplomat...</td>\n",
       "      <td>WASHINGTON (Reuters) - Trump campaign adviser ...</td>\n",
       "      <td>politicsNews</td>\n",
       "      <td>December 30, 2017</td>\n",
       "      <td>1</td>\n",
       "    </tr>\n",
       "    <tr>\n",
       "      <th>4</th>\n",
       "      <td>Trump wants Postal Service to charge 'much mor...</td>\n",
       "      <td>SEATTLE/WASHINGTON (Reuters) - President Donal...</td>\n",
       "      <td>politicsNews</td>\n",
       "      <td>December 29, 2017</td>\n",
       "      <td>1</td>\n",
       "    </tr>\n",
       "  </tbody>\n",
       "</table>\n",
       "</div>"
      ],
      "text/plain": [
       "                                               title  \\\n",
       "0  As U.S. budget fight looms, Republicans flip t...   \n",
       "1  U.S. military to accept transgender recruits o...   \n",
       "2  Senior U.S. Republican senator: 'Let Mr. Muell...   \n",
       "3  FBI Russia probe helped by Australian diplomat...   \n",
       "4  Trump wants Postal Service to charge 'much mor...   \n",
       "\n",
       "                                                text       subject  \\\n",
       "0  WASHINGTON (Reuters) - The head of a conservat...  politicsNews   \n",
       "1  WASHINGTON (Reuters) - Transgender people will...  politicsNews   \n",
       "2  WASHINGTON (Reuters) - The special counsel inv...  politicsNews   \n",
       "3  WASHINGTON (Reuters) - Trump campaign adviser ...  politicsNews   \n",
       "4  SEATTLE/WASHINGTON (Reuters) - President Donal...  politicsNews   \n",
       "\n",
       "                 date  label  \n",
       "0  December 31, 2017       1  \n",
       "1  December 29, 2017       1  \n",
       "2  December 31, 2017       1  \n",
       "3  December 30, 2017       1  \n",
       "4  December 29, 2017       1  "
      ]
     },
     "execution_count": 15,
     "metadata": {},
     "output_type": "execute_result"
    }
   ],
   "source": [
    "real_df.head()"
   ]
  },
  {
   "cell_type": "code",
   "execution_count": 13,
   "id": "18fe3d27",
   "metadata": {},
   "outputs": [],
   "source": [
    "fake_df['label'] = 0"
   ]
  },
  {
   "cell_type": "code",
   "execution_count": 14,
   "id": "4abd9188",
   "metadata": {},
   "outputs": [],
   "source": [
    "real_df['label'] = 1"
   ]
  },
  {
   "cell_type": "code",
   "execution_count": 17,
   "id": "bcef4882",
   "metadata": {},
   "outputs": [],
   "source": [
    "news_df = pd.concat([real_df, fake_df])"
   ]
  },
  {
   "cell_type": "code",
   "execution_count": 18,
   "id": "9805372e",
   "metadata": {},
   "outputs": [
    {
     "data": {
      "text/html": [
       "<div>\n",
       "<style scoped>\n",
       "    .dataframe tbody tr th:only-of-type {\n",
       "        vertical-align: middle;\n",
       "    }\n",
       "\n",
       "    .dataframe tbody tr th {\n",
       "        vertical-align: top;\n",
       "    }\n",
       "\n",
       "    .dataframe thead th {\n",
       "        text-align: right;\n",
       "    }\n",
       "</style>\n",
       "<table border=\"1\" class=\"dataframe\">\n",
       "  <thead>\n",
       "    <tr style=\"text-align: right;\">\n",
       "      <th></th>\n",
       "      <th>title</th>\n",
       "      <th>text</th>\n",
       "      <th>subject</th>\n",
       "      <th>date</th>\n",
       "      <th>label</th>\n",
       "    </tr>\n",
       "  </thead>\n",
       "  <tbody>\n",
       "    <tr>\n",
       "      <th>0</th>\n",
       "      <td>As U.S. budget fight looms, Republicans flip t...</td>\n",
       "      <td>WASHINGTON (Reuters) - The head of a conservat...</td>\n",
       "      <td>politicsNews</td>\n",
       "      <td>December 31, 2017</td>\n",
       "      <td>1</td>\n",
       "    </tr>\n",
       "    <tr>\n",
       "      <th>1</th>\n",
       "      <td>U.S. military to accept transgender recruits o...</td>\n",
       "      <td>WASHINGTON (Reuters) - Transgender people will...</td>\n",
       "      <td>politicsNews</td>\n",
       "      <td>December 29, 2017</td>\n",
       "      <td>1</td>\n",
       "    </tr>\n",
       "    <tr>\n",
       "      <th>2</th>\n",
       "      <td>Senior U.S. Republican senator: 'Let Mr. Muell...</td>\n",
       "      <td>WASHINGTON (Reuters) - The special counsel inv...</td>\n",
       "      <td>politicsNews</td>\n",
       "      <td>December 31, 2017</td>\n",
       "      <td>1</td>\n",
       "    </tr>\n",
       "    <tr>\n",
       "      <th>3</th>\n",
       "      <td>FBI Russia probe helped by Australian diplomat...</td>\n",
       "      <td>WASHINGTON (Reuters) - Trump campaign adviser ...</td>\n",
       "      <td>politicsNews</td>\n",
       "      <td>December 30, 2017</td>\n",
       "      <td>1</td>\n",
       "    </tr>\n",
       "    <tr>\n",
       "      <th>4</th>\n",
       "      <td>Trump wants Postal Service to charge 'much mor...</td>\n",
       "      <td>SEATTLE/WASHINGTON (Reuters) - President Donal...</td>\n",
       "      <td>politicsNews</td>\n",
       "      <td>December 29, 2017</td>\n",
       "      <td>1</td>\n",
       "    </tr>\n",
       "  </tbody>\n",
       "</table>\n",
       "</div>"
      ],
      "text/plain": [
       "                                               title  \\\n",
       "0  As U.S. budget fight looms, Republicans flip t...   \n",
       "1  U.S. military to accept transgender recruits o...   \n",
       "2  Senior U.S. Republican senator: 'Let Mr. Muell...   \n",
       "3  FBI Russia probe helped by Australian diplomat...   \n",
       "4  Trump wants Postal Service to charge 'much mor...   \n",
       "\n",
       "                                                text       subject  \\\n",
       "0  WASHINGTON (Reuters) - The head of a conservat...  politicsNews   \n",
       "1  WASHINGTON (Reuters) - Transgender people will...  politicsNews   \n",
       "2  WASHINGTON (Reuters) - The special counsel inv...  politicsNews   \n",
       "3  WASHINGTON (Reuters) - Trump campaign adviser ...  politicsNews   \n",
       "4  SEATTLE/WASHINGTON (Reuters) - President Donal...  politicsNews   \n",
       "\n",
       "                 date  label  \n",
       "0  December 31, 2017       1  \n",
       "1  December 29, 2017       1  \n",
       "2  December 31, 2017       1  \n",
       "3  December 30, 2017       1  \n",
       "4  December 29, 2017       1  "
      ]
     },
     "execution_count": 18,
     "metadata": {},
     "output_type": "execute_result"
    }
   ],
   "source": [
    "news_df.head()"
   ]
  },
  {
   "cell_type": "markdown",
   "id": "caa09be9",
   "metadata": {},
   "source": [
    "## Normalization"
   ]
  },
  {
   "cell_type": "code",
   "execution_count": 20,
   "id": "96189293",
   "metadata": {},
   "outputs": [],
   "source": [
    "news_df['title'] = news_df['title'].str.lower()\n",
    "news_df['text'] = news_df['text'].str.lower()"
   ]
  },
  {
   "cell_type": "code",
   "execution_count": 21,
   "id": "1691ec7e",
   "metadata": {},
   "outputs": [
    {
     "name": "stderr",
     "output_type": "stream",
     "text": [
      "C:\\Users\\wlaud\\AppData\\Local\\Temp\\ipykernel_25528\\3769389294.py:1: FutureWarning: The default value of regex will change from True to False in a future version.\n",
      "  news_df['title'] = news_df['title'].str.replace('[^\\w\\s]', '')\n",
      "C:\\Users\\wlaud\\AppData\\Local\\Temp\\ipykernel_25528\\3769389294.py:2: FutureWarning: The default value of regex will change from True to False in a future version.\n",
      "  news_df['text'] = news_df['text'].str.replace('[^\\w\\s]', '')\n"
     ]
    }
   ],
   "source": [
    "news_df['title'] = news_df['title'].str.replace('[^\\w\\s]', '')\n",
    "news_df['text'] = news_df['text'].str.replace('[^\\w\\s]', '')"
   ]
  },
  {
   "cell_type": "code",
   "execution_count": 22,
   "id": "dc88dfbf",
   "metadata": {},
   "outputs": [
    {
     "data": {
      "text/html": [
       "<div>\n",
       "<style scoped>\n",
       "    .dataframe tbody tr th:only-of-type {\n",
       "        vertical-align: middle;\n",
       "    }\n",
       "\n",
       "    .dataframe tbody tr th {\n",
       "        vertical-align: top;\n",
       "    }\n",
       "\n",
       "    .dataframe thead th {\n",
       "        text-align: right;\n",
       "    }\n",
       "</style>\n",
       "<table border=\"1\" class=\"dataframe\">\n",
       "  <thead>\n",
       "    <tr style=\"text-align: right;\">\n",
       "      <th></th>\n",
       "      <th>title</th>\n",
       "      <th>text</th>\n",
       "      <th>subject</th>\n",
       "      <th>date</th>\n",
       "      <th>label</th>\n",
       "    </tr>\n",
       "  </thead>\n",
       "  <tbody>\n",
       "    <tr>\n",
       "      <th>0</th>\n",
       "      <td>as us budget fight looms republicans flip thei...</td>\n",
       "      <td>washington reuters  the head of a conservative...</td>\n",
       "      <td>politicsNews</td>\n",
       "      <td>December 31, 2017</td>\n",
       "      <td>1</td>\n",
       "    </tr>\n",
       "    <tr>\n",
       "      <th>1</th>\n",
       "      <td>us military to accept transgender recruits on ...</td>\n",
       "      <td>washington reuters  transgender people will be...</td>\n",
       "      <td>politicsNews</td>\n",
       "      <td>December 29, 2017</td>\n",
       "      <td>1</td>\n",
       "    </tr>\n",
       "    <tr>\n",
       "      <th>2</th>\n",
       "      <td>senior us republican senator let mr mueller do...</td>\n",
       "      <td>washington reuters  the special counsel invest...</td>\n",
       "      <td>politicsNews</td>\n",
       "      <td>December 31, 2017</td>\n",
       "      <td>1</td>\n",
       "    </tr>\n",
       "    <tr>\n",
       "      <th>3</th>\n",
       "      <td>fbi russia probe helped by australian diplomat...</td>\n",
       "      <td>washington reuters  trump campaign adviser geo...</td>\n",
       "      <td>politicsNews</td>\n",
       "      <td>December 30, 2017</td>\n",
       "      <td>1</td>\n",
       "    </tr>\n",
       "    <tr>\n",
       "      <th>4</th>\n",
       "      <td>trump wants postal service to charge much more...</td>\n",
       "      <td>seattlewashington reuters  president donald tr...</td>\n",
       "      <td>politicsNews</td>\n",
       "      <td>December 29, 2017</td>\n",
       "      <td>1</td>\n",
       "    </tr>\n",
       "  </tbody>\n",
       "</table>\n",
       "</div>"
      ],
      "text/plain": [
       "                                               title  \\\n",
       "0  as us budget fight looms republicans flip thei...   \n",
       "1  us military to accept transgender recruits on ...   \n",
       "2  senior us republican senator let mr mueller do...   \n",
       "3  fbi russia probe helped by australian diplomat...   \n",
       "4  trump wants postal service to charge much more...   \n",
       "\n",
       "                                                text       subject  \\\n",
       "0  washington reuters  the head of a conservative...  politicsNews   \n",
       "1  washington reuters  transgender people will be...  politicsNews   \n",
       "2  washington reuters  the special counsel invest...  politicsNews   \n",
       "3  washington reuters  trump campaign adviser geo...  politicsNews   \n",
       "4  seattlewashington reuters  president donald tr...  politicsNews   \n",
       "\n",
       "                 date  label  \n",
       "0  December 31, 2017       1  \n",
       "1  December 29, 2017       1  \n",
       "2  December 31, 2017       1  \n",
       "3  December 30, 2017       1  \n",
       "4  December 29, 2017       1  "
      ]
     },
     "execution_count": 22,
     "metadata": {},
     "output_type": "execute_result"
    }
   ],
   "source": [
    "news_df.head()"
   ]
  },
  {
   "cell_type": "markdown",
   "id": "b367eb48",
   "metadata": {},
   "source": [
    "## Train / Test"
   ]
  },
  {
   "cell_type": "code",
   "execution_count": 27,
   "id": "defde913",
   "metadata": {},
   "outputs": [],
   "source": [
    "from sklearn.model_selection import train_test_split\n",
    "from sklearn.naive_bayes import MultinomialNB"
   ]
  },
  {
   "cell_type": "code",
   "execution_count": 24,
   "id": "670b025f",
   "metadata": {},
   "outputs": [],
   "source": [
    "x = news_df.drop(['label'], axis = 1)\n",
    "y = news_df.label"
   ]
  },
  {
   "cell_type": "markdown",
   "id": "cc3a69bf",
   "metadata": {},
   "source": [
    "### Vectorize string values + combine title and text as one."
   ]
  },
  {
   "cell_type": "code",
   "execution_count": 36,
   "id": "7e1d502e",
   "metadata": {},
   "outputs": [],
   "source": [
    "from sklearn.feature_extraction.text import CountVectorizer"
   ]
  },
  {
   "cell_type": "code",
   "execution_count": 33,
   "id": "be17f18d",
   "metadata": {},
   "outputs": [],
   "source": [
    "x['string'] = x['title'] + x['text']\n",
    "temp_x = x.string"
   ]
  },
  {
   "cell_type": "code",
   "execution_count": 37,
   "id": "59f463c2",
   "metadata": {},
   "outputs": [],
   "source": [
    "vectorizer = CountVectorizer()"
   ]
  },
  {
   "cell_type": "code",
   "execution_count": 151,
   "id": "dae26b2f",
   "metadata": {},
   "outputs": [],
   "source": [
    "X = vectorizer.fit_transform(temp_x)"
   ]
  },
  {
   "cell_type": "code",
   "execution_count": 174,
   "id": "62a8bc84",
   "metadata": {},
   "outputs": [],
   "source": [
    "x_train, x_test, y_train, y_test = train_test_split(X, y, test_size=0.4, random_state=1)\n",
    "#original test_size = 0.2"
   ]
  },
  {
   "cell_type": "code",
   "execution_count": 175,
   "id": "a1810562",
   "metadata": {},
   "outputs": [],
   "source": [
    "model = MultinomialNB()"
   ]
  },
  {
   "cell_type": "code",
   "execution_count": 176,
   "id": "25364424",
   "metadata": {},
   "outputs": [
    {
     "data": {
      "text/plain": [
       "MultinomialNB()"
      ]
     },
     "execution_count": 176,
     "metadata": {},
     "output_type": "execute_result"
    }
   ],
   "source": [
    "model.fit(x_train, y_train)"
   ]
  },
  {
   "cell_type": "code",
   "execution_count": 177,
   "id": "3fa3b214",
   "metadata": {},
   "outputs": [],
   "source": [
    "y_pred = model.predict(x_test)"
   ]
  },
  {
   "cell_type": "code",
   "execution_count": 156,
   "id": "6c4d1870",
   "metadata": {},
   "outputs": [],
   "source": [
    "MultinomialNB_accuracy = accuracy_score(y_test, y_pred)"
   ]
  },
  {
   "cell_type": "code",
   "execution_count": 157,
   "id": "791980be",
   "metadata": {},
   "outputs": [
    {
     "data": {
      "text/plain": [
       "0.9619153674832962"
      ]
     },
     "execution_count": 157,
     "metadata": {},
     "output_type": "execute_result"
    }
   ],
   "source": [
    "MultinomialNB_accuracy"
   ]
  },
  {
   "cell_type": "code",
   "execution_count": 178,
   "id": "a4b98e89",
   "metadata": {},
   "outputs": [],
   "source": [
    "MultinomialNB_testsize_accuracy = accuracy_score(y_test, y_pred)"
   ]
  },
  {
   "cell_type": "code",
   "execution_count": 179,
   "id": "2275a4cd",
   "metadata": {},
   "outputs": [
    {
     "data": {
      "text/plain": [
       "0.9600779510022271"
      ]
     },
     "execution_count": 179,
     "metadata": {},
     "output_type": "execute_result"
    }
   ],
   "source": [
    "MultinomialNB_testsize_accuracy"
   ]
  },
  {
   "cell_type": "markdown",
   "id": "4a55a6b2",
   "metadata": {},
   "source": [
    "### Tinker with parameters at least 3 times (changing learning rate, changing features, changing k like in KNN, etc). You may tinker with the same kind of parameter 3 times, it doesn't have to be 3 different parameters. (example: you can just tinker with k. k=1, k=3, or k=8) Or you might want to tinker with features and also your k value or whatever is appropriate for your algorithm. (3pts)"
   ]
  },
  {
   "cell_type": "markdown",
   "id": "eaa12df7",
   "metadata": {},
   "source": [
    "I have already removed punctuations and lower texts (stemming and text cleaning). I decided to try different Naive Bayes models and compare the result with stopword removed data and original one! Additionally, I will change test_size 0.2 to 0.3."
   ]
  },
  {
   "cell_type": "markdown",
   "id": "dde3ae73",
   "metadata": {},
   "source": [
    "### Gaussian Naive Bayes with stop word removed and different test_size"
   ]
  },
  {
   "cell_type": "code",
   "execution_count": 158,
   "id": "752a91d2",
   "metadata": {},
   "outputs": [],
   "source": [
    "#nltk.download('stopwords') #creating stop word vectorizer\n",
    "from sklearn.naive_bayes import GaussianNB"
   ]
  },
  {
   "cell_type": "code",
   "execution_count": 159,
   "id": "68eaddfe",
   "metadata": {},
   "outputs": [],
   "source": [
    "stop_words = set(stopwords.words('english'))\n",
    "stop_vectorizer = CountVectorizer(stop_words=stop_words)"
   ]
  },
  {
   "cell_type": "code",
   "execution_count": 160,
   "id": "c39565a3",
   "metadata": {},
   "outputs": [],
   "source": [
    "stop_x = stop_vectorizer.fit_transform(temp_x)"
   ]
  },
  {
   "cell_type": "code",
   "execution_count": 161,
   "id": "3af488be",
   "metadata": {},
   "outputs": [],
   "source": [
    "stop_train, stop_test, stop_y_train, stop_y_test = train_test_split(stop_x, y, test_size=0.3, random_state=1)"
   ]
  },
  {
   "cell_type": "code",
   "execution_count": 166,
   "id": "ce2501c5",
   "metadata": {},
   "outputs": [],
   "source": [
    "g_model = GaussianNB()"
   ]
  },
  {
   "cell_type": "code",
   "execution_count": 167,
   "id": "8fbbed5d",
   "metadata": {},
   "outputs": [],
   "source": [
    "#g_model.fit(stop_train.toarray(), y_train)\n",
    "#MemoryError: Unable to allocate 58.9 GiB for an array with shape (31428, 251681) and data type int64\n",
    "#continuing with subsampling"
   ]
  },
  {
   "cell_type": "code",
   "execution_count": 168,
   "id": "6f881825",
   "metadata": {},
   "outputs": [],
   "source": [
    "sample_size = 2000\n",
    "stop_train_sample = stop_train[:sample_size, :]\n",
    "stop_y_train_sample = stop_y_train[:sample_size]\n",
    "stop_test_sample = stop_train[:sample_size, :]\n",
    "stop_y_test_sample = stop_y_test[:sample_size]"
   ]
  },
  {
   "cell_type": "code",
   "execution_count": 169,
   "id": "f0ff6ee0",
   "metadata": {},
   "outputs": [
    {
     "data": {
      "text/plain": [
       "GaussianNB()"
      ]
     },
     "execution_count": 169,
     "metadata": {},
     "output_type": "execute_result"
    }
   ],
   "source": [
    "g_model.fit(stop_train_sample.toarray(), stop_y_train_sample)"
   ]
  },
  {
   "cell_type": "code",
   "execution_count": 170,
   "id": "ae3c09bf",
   "metadata": {},
   "outputs": [],
   "source": [
    "stop_y_pred = g_model.predict(stop_test_sample.toarray())"
   ]
  },
  {
   "cell_type": "code",
   "execution_count": 171,
   "id": "073dac5d",
   "metadata": {
    "scrolled": true
   },
   "outputs": [
    {
     "data": {
      "text/plain": [
       "0.4865"
      ]
     },
     "execution_count": 171,
     "metadata": {},
     "output_type": "execute_result"
    }
   ],
   "source": [
    "GaussiasnNB_accuracy = accuracy_score(stop_y_test_sample, stop_y_pred)\n",
    "GaussiasnNB_accuracy"
   ]
  },
  {
   "cell_type": "markdown",
   "id": "84fdaeab",
   "metadata": {},
   "source": [
    "Due to limited memory capacity, I had to subsample my data for training the Naive Bayes classifier. However, the accuracy of the model on the test data is only about 0.5, which may be due to two reasons. First, the Naive Bayes classifier may not be the most appropriate model for classifying fake news data. Second, the subsampled data may not have been sufficient to train a good model. To improve the accuracy, I may need to try using a different classifier, such as a Support Vector Machine or a Random Forest, and increase the amount of data used for training the model."
   ]
  },
  {
   "cell_type": "markdown",
   "id": "30676b59",
   "metadata": {},
   "source": [
    "### Multinomial Naive Bayes with stop word "
   ]
  },
  {
   "cell_type": "markdown",
   "id": "3b90e31e",
   "metadata": {},
   "source": [
    "stop_x is already vectorized using stop_words so I am going to use same code used previously."
   ]
  },
  {
   "cell_type": "code",
   "execution_count": 144,
   "id": "c9eeea36",
   "metadata": {},
   "outputs": [],
   "source": [
    "stop_train, stop_test, y_train, y_test = train_test_split(stop_x, y, test_size=0.2, random_state=1)"
   ]
  },
  {
   "cell_type": "code",
   "execution_count": 145,
   "id": "977f33e1",
   "metadata": {},
   "outputs": [],
   "source": [
    "model = MultinomialNB()"
   ]
  },
  {
   "cell_type": "code",
   "execution_count": 146,
   "id": "a161135f",
   "metadata": {},
   "outputs": [
    {
     "data": {
      "text/plain": [
       "MultinomialNB()"
      ]
     },
     "execution_count": 146,
     "metadata": {},
     "output_type": "execute_result"
    }
   ],
   "source": [
    "model.fit(stop_train, y_train)"
   ]
  },
  {
   "cell_type": "code",
   "execution_count": 147,
   "id": "fef3a84f",
   "metadata": {},
   "outputs": [],
   "source": [
    "y_pred = model.predict(stop_test)"
   ]
  },
  {
   "cell_type": "code",
   "execution_count": 140,
   "id": "864ecebc",
   "metadata": {},
   "outputs": [],
   "source": [
    "MultinomialNB_stopword_accuracy = accuracy_score(y_test, y_pred)"
   ]
  },
  {
   "cell_type": "code",
   "execution_count": 141,
   "id": "56083981",
   "metadata": {},
   "outputs": [
    {
     "data": {
      "text/plain": [
       "0.9604677060133631"
      ]
     },
     "execution_count": 141,
     "metadata": {},
     "output_type": "execute_result"
    }
   ],
   "source": [
    "MultinomialNB_stopword_accuracy"
   ]
  },
  {
   "cell_type": "markdown",
   "id": "6e23c70f",
   "metadata": {},
   "source": [
    "### test_size to 0.3"
   ]
  },
  {
   "cell_type": "code",
   "execution_count": 148,
   "id": "61f10d1f",
   "metadata": {},
   "outputs": [],
   "source": [
    "stop_train, stop_test, y_train, y_test = train_test_split(stop_x, y, test_size=0.3, random_state=1)\n",
    "model = MultinomialNB()\n",
    "model.fit(stop_train, y_train)\n",
    "y_pred = model.predict(stop_test)\n"
   ]
  },
  {
   "cell_type": "code",
   "execution_count": 149,
   "id": "33466307",
   "metadata": {},
   "outputs": [],
   "source": [
    "MultinomialNB_stopword_test_size_accuracy = accuracy_score(y_test, y_pred)"
   ]
  },
  {
   "cell_type": "code",
   "execution_count": 150,
   "id": "6ccb1e81",
   "metadata": {},
   "outputs": [
    {
     "data": {
      "text/plain": [
       "0.9594654788418708"
      ]
     },
     "execution_count": 150,
     "metadata": {},
     "output_type": "execute_result"
    }
   ],
   "source": [
    "MultinomialNB_stopword_test_size_accuracy"
   ]
  },
  {
   "cell_type": "markdown",
   "id": "cbd99fdf",
   "metadata": {},
   "source": [
    "### Report the accuracy of your model. Either through RMSE or another metric. How did accuracy change with your parameter tinkering? (3pts)"
   ]
  },
  {
   "cell_type": "code",
   "execution_count": 163,
   "id": "a25c9716",
   "metadata": {},
   "outputs": [
    {
     "data": {
      "text/plain": [
       "0.9619153674832962"
      ]
     },
     "execution_count": 163,
     "metadata": {},
     "output_type": "execute_result"
    }
   ],
   "source": [
    "MultinomialNB_accuracy #No stopword filter and 0.2 test_size"
   ]
  },
  {
   "cell_type": "code",
   "execution_count": 180,
   "id": "eb05780f",
   "metadata": {},
   "outputs": [
    {
     "data": {
      "text/plain": [
       "0.9600779510022271"
      ]
     },
     "execution_count": 180,
     "metadata": {},
     "output_type": "execute_result"
    }
   ],
   "source": [
    "MultinomialNB_testsize_accuracy #No stopword and 0.4 test_size"
   ]
  },
  {
   "cell_type": "code",
   "execution_count": 164,
   "id": "14619b19",
   "metadata": {},
   "outputs": [
    {
     "data": {
      "text/plain": [
       "0.9594654788418708"
      ]
     },
     "execution_count": 164,
     "metadata": {},
     "output_type": "execute_result"
    }
   ],
   "source": [
    "MultinomialNB_stopword_test_size_accuracy #Stopword filter and 0.3 test_size"
   ]
  },
  {
   "cell_type": "code",
   "execution_count": 173,
   "id": "792c1a9a",
   "metadata": {},
   "outputs": [
    {
     "data": {
      "text/plain": [
       "0.4865"
      ]
     },
     "execution_count": 173,
     "metadata": {},
     "output_type": "execute_result"
    }
   ],
   "source": [
    "GaussiasnNB_accuracy #Stopword filter and 0.2 test_size"
   ]
  },
  {
   "cell_type": "markdown",
   "id": "9b8580da",
   "metadata": {},
   "source": [
    "The initial Multinomial Naive Bayes model has the highest accuracy with 0.9619, after removing stopword with 'CountVectorizer(stop_words=stop_words)', and increasing test_size to 0.3 the accracy decreased about 0.25%.\n"
   ]
  },
  {
   "cell_type": "markdown",
   "id": "8446b7ab",
   "metadata": {},
   "source": [
    "### Create a visualization demonstrating your findings. Make sure to include a title and axis labels. Describe what's being shown in your visualization. (3pts)\n"
   ]
  },
  {
   "cell_type": "code",
   "execution_count": 218,
   "id": "255ccdee",
   "metadata": {},
   "outputs": [
    {
     "data": {
      "text/plain": [
       "Text(0.5, 1.0, 'Multinomial NB Confusion Matrix')"
      ]
     },
     "execution_count": 218,
     "metadata": {},
     "output_type": "execute_result"
    },
    {
     "data": {
      "image/png": "iVBORw0KGgoAAAANSUhEUgAAAiQAAAHFCAYAAADCA+LKAAAAOXRFWHRTb2Z0d2FyZQBNYXRwbG90bGliIHZlcnNpb24zLjUuMiwgaHR0cHM6Ly9tYXRwbG90bGliLm9yZy8qNh9FAAAACXBIWXMAAA9hAAAPYQGoP6dpAABigElEQVR4nO3de1yO9/8H8Nfd6e6gbip1u5MUzVgOYToM2co5zfjOIXIOY2gYa0Y5FW1zbCPHCMt+w2ZGzowRMTkkDDlNKaRIJ3X9/jCX3Trc3Xbf7uT13ON6PHRd7+u63ve9++bd+/O5rksiCIIAIiIiIh3S03UCRERERCxIiIiISOdYkBAREZHOsSAhIiIinWNBQkRERDrHgoSIiIh0jgUJERER6RwLEiIiItI5FiRERESkcyxIqpjo6GhIJBJIJBIcOHCgxHZBEFC/fn1IJBK0a9fupc4RGhoKiUSitO77779HdHR0idhr165BIpGUuq0yKe01aXrfZ3E2NjZ4+PBhie1169aFr6+v0rpn/y+fLWZmZmjYsCGmT5+OnJycCud45swZDB48GI6OjjA2Nka1atXQvHlzRERE4P79+xU+zss4deoUvLy8IJPJIJFIsGDBAo2fQyKRIDQ0VOPHVeVVfN/K+m6V58CBA2XmRFRZGeg6AdIOc3NzrFy5ssRfggcPHsSVK1dgbm6u0fN9//33sLa2xqBBg5TW16pVC0ePHkW9evU0ej5NGzZsGDp16vRKzpWRkYGIiAjMnDmzQvH/+9//MGHCBADAo0ePcPDgQcyYMQNnzpzBpk2bVO6/fPlyjBo1Cg0aNMDnn3+ORo0aobCwECdOnMDSpUtx9OhRbNmy5T+9pvIMGTIEOTk5iI2NRY0aNVC3bl2Nn+Po0aOoXbu2xo9bUdr8vpX13SpP8+bNcfToUTRq1Oilz0v0qrEgqaJ69+6N9evX47vvvoOFhYW4fuXKlfDw8EB2dvYryUMqlcLd3f2VnOu/qF279iv7B61Tp06YP38+Ro8eDblcrjLe1tZW6T308fHB9evXsX79euTl5cHY2LjMfY8ePYpPPvkE7du3x88//wypVCpua9++PSZMmIC4uLj/9oJUOHfuHAIDA9G5c2etnUPXn7HK8n0rLCyERCKBhYWFzt8TInVxyKaK6tu3LwDghx9+ENdlZWVh06ZNGDJkSIn4slq8FRlyqVu3LpKSknDw4EGxff3st+DS9n82dJGUlIS+fftCJpPB1tYWQ4YMQVZWltKx8/LyEBwcDEdHRxgZGcHOzg6jR4/GgwcPSuTg6+uLbdu2wdXVFSYmJmjYsCG2bdsG4GlrvWHDhjAzM0OrVq1w4sQJpf1LG3bZuHEjOnTogFq1aonH++KLL9QaKinNrFmz8OTJk/80xPBs+ENfX7/cuLCwMEgkEixbtkypGHnGyMgIfn5+4s/FxcWIiIjA22+/DalUChsbGwwYMAC3bt1S2q9du3ZwcXFBQkIC2rRpA1NTUzg5OWHOnDkoLi4G8Hw448mTJ1iyZIn42QDKHuZ6ts+1a9fEdfv27UO7du1gZWUFExMT1KlTBz179sTjx4/FmNKGbM6dO4cPP/wQNWrUgLGxMZo1a4Y1a9YoxTz73P/www+YMmUKFAoFLCws4OPjg4sXL5b73v6but83AJg+fTrc3NxgaWkJCwsLNG/eHCtXrsS/n3da3nfrWe4xMTGYMGEC7OzsIJVKcfny5RLf57t378Le3h6enp4oLCwUj3/+/HmYmZkhICCgwq+VSFtYkFRRFhYW+N///odVq1aJ63744Qfo6emhd+/eGj3Xli1b4OTkBFdXVxw9erTCQwA9e/bEW2+9hU2bNuGLL77Ahg0b8Nlnn4nbBUFA9+7d8c033yAgIAC//fYbxo8fjzVr1uCDDz5Afn6+0vFOnz6N4OBgTJ48GZs3b4ZMJkOPHj0QEhKCFStWICwsDOvXr0dWVhZ8fX2Rm5tbbn5//fUXunTpgpUrVyIuLg5BQUH48ccf0a1bt5d7o/7h4OCAUaNGYeXKlbh06ZLKeEEQ8OTJEzx58gQPHjzAL7/8gjVr1qBPnz4wNDQsc7+ioiLs27cPLVq0gL29fYVy++STTzB58mS0b98eW7duxcyZMxEXFwdPT0/cvXtXKTYtLQ39+vVD//79sXXrVnTu3BnBwcFYt24dAKBr1644evQogKfDTs8+G+q4du0aunbtCiMjI6xatQpxcXGYM2cOzMzMUFBQUOZ+Fy9ehKenJ5KSkrBo0SJs3rwZjRo1wqBBgxAREVEi/ssvv8T169exYsUKLFu2DH/99Re6deuGoqKiCuX5Mt+3a9euYcSIEfjxxx+xefNm9OjRA2PGjFEayqvIdys4OBg3btzA0qVL8euvv8LGxqbEuaytrREbG4uEhARMnjwZAPD48WN8/PHHqFOnDpYuXVqh10mkVQJVKatXrxYACAkJCcL+/fsFAMK5c+cEQRCEd999Vxg0aJAgCILwzjvvCF5eXuJ+z2L379+vdLyUlBQBgLB69WpxXUhIiPDiR+fF41Vk/4iICKXYUaNGCcbGxkJxcbEgCIIQFxdXatzGjRsFAMKyZcvEdQ4ODoKJiYlw69YtcV1iYqIAQKhVq5aQk5Mjrv/5558FAMLWrVvLfU3/VlxcLBQWFgoHDx4UAAinT5+u8L4vxmVkZAh3794VZDKZ0LNnT6XX0LVrV6V9AJS6dO7cWXj06FG550tLSxMACH369FGZmyAIQnJysgBAGDVqlNL6Y8eOCQCEL7/8Ulzn5eUlABCOHTumFNuoUSOhY8eOJV7D6NGjldaV9Z49+/ympKQIgiAIP/30kwBASExMLDd3AEJISIj4c58+fQSpVCrcuHFDKa5z586Cqamp8ODBA0EQnn/uu3TpohT3448/CgCEo0ePlnvel/2+vaioqEgoLCwUZsyYIVhZWYnfgfL2fXa+tm3blrntxe/z3LlzBQDCli1bhIEDBwomJibCmTNnyn2NRK8KOyRVmJeXF+rVq4dVq1bh7NmzSEhIKLN9rAv/HioAgCZNmiAvLw/p6ekAnrbqAZSYzPfxxx/DzMwMe/fuVVrfrFkz2NnZiT83bNgQwNPhBVNT0xLrr1+/Xm5+V69ehb+/P+RyOfT19WFoaAgvLy8AQHJyckVfZqmsrKwwefJkbNq0CceOHSs3tlevXkhISEBCQgJ+//13LFq0CCdOnECnTp1KdIn+i/379wMo+X63atUKDRs2LPF+y+VytGrVSmldkyZNVL6v6mjWrBmMjIwwfPhwrFmzBlevXq3Qfvv27YO3t3eJztCgQYPw+PHjEp2a0j6LgOrPyL+p+33bt28ffHx8IJPJxM/XtGnTcO/ePfE7UBE9e/ascOznn3+Orl27om/fvlizZg0WL16Mxo0bV3h/Im1iQVKFSSQSDB48GOvWrcPSpUvx1ltvoU2bNrpOS2RlZaX087M5Ds+GUu7duwcDAwPUrFlTKU4ikUAul+PevXtK6y0tLZV+NjIyKnd9Xl5embk9evQIbdq0wbFjxzBr1iwcOHAACQkJ2Lx5s1KO/0VQUBAUCgUmTZpUblzNmjXRsmVLtGzZEm3atMGYMWOwaNEiHD58uNy5PdbW1jA1NUVKSkqF8nn2ftaqVavENoVCUeL9fvH/H/D0/6Em3ptn6tWrhz179sDGxgajR49GvXr1UK9ePSxcuLDc/e7du1fm63i2/d9UfRYrQp3v2/Hjx9GhQwcAT6+C+uOPP5CQkIApU6aofd7SXmd5OQ4aNAh5eXmQy+WcO0KVCguSKm7QoEG4e/culi5disGDB5cZ9+xKjRd/435x3sCrZGVlhSdPniAjI0NpvSAISEtLg7W1tdbOvW/fPty+fRurVq3CsGHD0LZtW7Rs2VKjl0ubmJggNDQUv//+O3777Te19n32G/zp06fLjNHX14e3tzdOnjxZYlJqaZ79o5yamlpi2+3btzX6fqvzeWvTpg1+/fVXZGVlIT4+Hh4eHggKCkJsbGyZx7eysirzdQDQ2menot+32NhYGBoaYtu2bejVqxc8PT3RsmXLlzqnOvfPSU1NxejRo9GsWTPcu3cPEydOfKlzEmkDC5Iqzs7ODp9//jm6deuGgQMHlhn3bOb+mTNnlNZv3bq1QufR9G/GAODt7Q0A4iTJZzZt2oScnBxxuzY8+0v+xStToqKiNHqeIUOGiFfvPLs6pSISExMBoNQJjP8WHBwMQRAQGBhY6iTQwsJC/PrrrwCADz74AEDJ9zshIQHJyckafb/L+rw9y6U0+vr6cHNzw3fffQcA+PPPP8uM9fb2FovKf1u7di1MTU21dklsRb9vEokEBgYGSldJ5ebmIiYmpkSspr5bRUVF6Nu3LyQSCXbs2IHw8HAsXrxY7PoR6RrvQ/IGmDNnjsoYuVwOHx8fhIeHo0aNGnBwcMDevXsr/JdV48aNERsbi40bN8LJyQnGxsb/eWy6ffv26NixIyZPnozs7Gy89957OHPmDEJCQuDq6qrVdrOnpydq1KiBkSNHIiQkBIaGhli/fn25HYmXoa+vj7CwMHz00UcAnnc+/u3OnTuIj48H8HSYKTExEbNmzUL16tXL/S0cADw8PLBkyRKMGjUKLVq0wCeffIJ33nkHhYWFOHXqFJYtWwYXFxd069YNDRo0wPDhw7F48WLo6emhc+fOuHbtGqZOnQp7e3ulK6D+qy5dusDS0hJDhw7FjBkzYGBggOjoaNy8eVMpbunSpdi3bx+6du2KOnXqIC8vT7ySxcfHp8zjh4SEYNu2bXj//fcxbdo0WFpaYv369fjtt98QEREBmUymsdfyoop837p27Yp58+bB398fw4cPx7179/DNN9+Uemm2pr5bISEhOHToEHbt2gW5XI4JEybg4MGDGDp0KFxdXeHo6Kj2MYk0iQUJiWJiYjBmzBhMnjwZRUVF6NatG3744YcKtZKnT5+O1NRUBAYG4uHDh3BwcFC6l8TLkEgk+PnnnxEaGorVq1dj9uzZsLa2RkBAAMLCwkr9y1tTrKys8Ntvv2HChAno378/zMzM8OGHH2Ljxo1o3ry5Rs/VvXt3eHp64siRI6Vu/+mnn/DTTz8BAAwNDWFvbw8/Pz9MmTIFDg4OKo8fGBiIVq1aYf78+Zg7dy7S0tJgaGiIt956C/7+/vj000/F2CVLlqBevXpYuXIlvvvuO8hkMnTq1Anh4eGlzhl5WRYWFuKl1P3790f16tUxbNgwdO7cGcOGDRPjmjVrhl27diEkJARpaWmoVq0aXFxcsHXrVnEORmkaNGiAI0eO4Msvv8To0aORm5uLhg0bYvXq1Wrd8VRbPvjgA6xatQpz585Ft27dYGdnh8DAQNjY2GDo0KFKsZr4bu3evRvh4eGYOnWqUqcrOjoarq6u6N27Nw4fPizOryLSBYkg/OsuPEREREQ6wDkkREREpHMsSIiIiEjnWJAQERGRzrEgISIiIp1jQUJEREQ6x4KEiIiIdI4FCREREelclbwx2kiJha5TIKqUlmZX7EF7RG8Uc83d9K8smvp3aamQrZHjVEbskBAREZHOVckOCRERUWXC3/5VY0FCRESkZXr/PEGcysaChIiISMvYIVGN7xERERHpHDskREREWqbHERuVWJAQERFpGYcjVON7RERERDrHDgkREZGW8Sob1ViQEBERaRmHI1Tje0REREQ6xw4JERGRlvEqG9VYkBAREWkZhyNU43tEREREOscOCRERkZZJeJWNSixIiIiItIzDEaqxICEiItIyTmpVjUUbERER6Rw7JERERFrG3/5VY0FCRESkZbx1vGos2oiIiEjn2CEhIiLSMv72rxoLEiIiIi3jVTaqsWgjIiIinWOHhIiISMv4279qLEiIiIi0TA8cs1GFRRsRERHpHDskREREWsZJraqxICEiItIyDkeoxoKEiIhIy9ghUY1FGxEREekcOyRERERaxqtsVGNBQkREpGUcslGNQzZERERV0JMnT/DVV1/B0dERJiYmcHJywowZM1BcXCzGCIKA0NBQKBQKmJiYoF27dkhKSlI6Tn5+PsaMGQNra2uYmZnBz88Pt27dUorJzMxEQEAAZDIZZDIZAgIC8ODBA7XyZUFCRESkZXoaWtQxd+5cLF26FJGRkUhOTkZERAS+/vprLF68WIyJiIjAvHnzEBkZiYSEBMjlcrRv3x4PHz4UY4KCgrBlyxbExsbi8OHDePToEXx9fVFUVCTG+Pv7IzExEXFxcYiLi0NiYiICAgLUylciCIKg5mus9EZKLHSdAlGltDQ7RdcpEFU+5lZaP0WUubVGjjPi4d0Kx/r6+sLW1hYrV64U1/Xs2ROmpqaIiYmBIAhQKBQICgrC5MmTATzthtja2mLu3LkYMWIEsrKyULNmTcTExKB3794AgNu3b8Pe3h7bt29Hx44dkZycjEaNGiE+Ph5ubm4AgPj4eHh4eODChQto0KBBhfJlh4SIiOg1kZ+fj+zsbKUlPz+/1NjWrVtj7969uHTpEgDg9OnTOHz4MLp06QIASElJQVpaGjp06CDuI5VK4eXlhSNHjgAATp48icLCQqUYhUIBFxcXMebo0aOQyWRiMQIA7u7ukMlkYkxFsCAhIiLSMj1INLKEh4eL8zSeLeHh4aWec/Lkyejbty/efvttGBoawtXVFUFBQejbty8AIC0tDQBga2urtJ+tra24LS0tDUZGRqhRo0a5MTY2NiXOb2NjI8ZUBK+yISIi0jJNXWUTHByM8ePHK62TSqWlxm7cuBHr1q3Dhg0b8M477yAxMRFBQUFQKBQYOHCgGCeRKCcnCEKJdS96Maa0+Ioc599YkBAREb0mpFJpmQXIiz7//HN88cUX6NOnDwCgcePGuH79OsLDwzFw4EDI5XIATzsctWrVEvdLT08XuyZyuRwFBQXIzMxU6pKkp6fD09NTjLlz506J82dkZJTovpSHQzZERERaJtHQoo7Hjx9DT0/5n3l9fX3xsl9HR0fI5XLs3r1b3F5QUICDBw+KxUaLFi1gaGioFJOamopz586JMR4eHsjKysLx48fFmGPHjiErK0uMqQh2SIiIiLRMFzdG69atG2bPno06dergnXfewalTpzBv3jwMGTIEwNNhlqCgIISFhcHZ2RnOzs4ICwuDqakp/P39AQAymQxDhw7FhAkTYGVlBUtLS0ycOBGNGzeGj48PAKBhw4bo1KkTAgMDERUVBQAYPnw4fH19K3yFDcCChIiISOt0cev4xYsXY+rUqRg1ahTS09OhUCgwYsQITJs2TYyZNGkScnNzMWrUKGRmZsLNzQ27du2Cubm5GDN//nwYGBigV69eyM3Nhbe3N6Kjo6Gvry/GrF+/HmPHjhWvxvHz80NkZKRa+fI+JERvEN6HhKgUr+A+JGtlJa9CeRkDstI1cpzKiB0SIiIiLeOzbFRjQUJERKRlvIJENb5HREREpHPskBAREWkZR2xUY0FCRESkZXpq3LH0TcUhGyIiItI5dkiIiIi0jP0R1ViQEBERaRkLEtU4ZENEREQ6xw4JERGRlrFDohoLEiIiIi2T8CoblViQEBERaRnLEdU4h4SIiIh0jh0SIiIiLeNv/6qxICEiItIyTiFRjUUbERER6Rw7JERERFom4bRWlViQEBERaRnLEdU4ZENEREQ6xw4JERGRlrFDohoLEiIiIi3TY0WiEodsiIiISOfYISEiItIyXmWjGgsSIiIiLWM5ohoLEiIiIi3jnVpV4xwSIiIi0jl2SIiIiLSMDRLVWJAQERFpmR5LEpU4ZENEREQ6xw4JERGRlrE/ohoLEiIiIi3jVTaqcciGiIiIdI4FCRERkZZJNLSoo27dupBIJCWW0aNHAwAEQUBoaCgUCgVMTEzQrl07JCUlKR0jPz8fY8aMgbW1NczMzODn54dbt24pxWRmZiIgIAAymQwymQwBAQF48OCBmtmyICEiItI6iYb+U0dCQgJSU1PFZffu3QCAjz/+GAAQERGBefPmITIyEgkJCZDL5Wjfvj0ePnwoHiMoKAhbtmxBbGwsDh8+jEePHsHX1xdFRUVijL+/PxITExEXF4e4uDgkJiYiICBA/fdIEARB7b0quZESC12nQFQpLc1O0XUKRJWPuZXWT3HAprZGjtMu/ZbqoDIEBQVh27Zt+OuvvwAACoUCQUFBmDx5MoCn3RBbW1vMnTsXI0aMQFZWFmrWrImYmBj07t0bAHD79m3Y29tj+/bt6NixI5KTk9GoUSPEx8fDzc0NABAfHw8PDw9cuHABDRo0qHB+7JAQERFpmZ5EM0t+fj6ys7OVlvz8fJXnLygowLp16zBkyBBIJBKkpKQgLS0NHTp0EGOkUim8vLxw5MgRAMDJkydRWFioFKNQKODi4iLGHD16FDKZTCxGAMDd3R0ymUyMqfB7pFY0ERERqU1Tc0jCw8PFuRrPlvDwcJXn//nnn/HgwQMMGjQIAJCWlgYAsLW1VYqztbUVt6WlpcHIyAg1atQoN8bGxqbE+WxsbMSYiuJlv0RERFqmqat+g4ODMX78eKV1UqlU5X4rV65E586doVAolPN64XpkQRBKrHvRizGlxVfkOC/SWUFy5syZCsc2adJEi5kQERG9HqRSaYUKkH+7fv069uzZg82bN4vr5HI5gKcdjlq1aonr09PTxa6JXC5HQUEBMjMzlbok6enp8PT0FGPu3LlT4pwZGRklui+q6KwgadasGSQSCcqaU/tsm0QiUZrNS0RE9LpR9woZTVq9ejVsbGzQtWtXcZ2joyPkcjl2794NV1dXAE/nmRw8eBBz584FALRo0QKGhobYvXs3evXqBQBITU3FuXPnEBERAQDw8PBAVlYWjh8/jlatWgEAjh07hqysLLFoqSidFSQpKZztT0REbwZd3am1uLgYq1evxsCBA2Fg8PyffIlEgqCgIISFhcHZ2RnOzs4ICwuDqakp/P39AQAymQxDhw7FhAkTYGVlBUtLS0ycOBGNGzeGj48PAKBhw4bo1KkTAgMDERUVBQAYPnw4fH191brCBtBhQeLg4KCrUxMREb0R9uzZgxs3bmDIkCEltk2aNAm5ubkYNWoUMjMz4ebmhl27dsHc3FyMmT9/PgwMDNCrVy/k5ubC29sb0dHR0NfXF2PWr1+PsWPHilfj+Pn5ITIyUu1cK9V9SM6fP48bN26goKBAab2fn59ax+F9SEqnp68P39Av0arfx7CQ2yIrNQ1Hozdgx6yIMofOAMBrVCDafTocVnXr4P6NW9gx+xsci/lBq7kqXBqhT+Q3qNuqBR7fz8TvUauxfeZccXu999zRY+4M2L79FoxMTXD/+k0cilqNvQu+02perzveh6RiolavxbzvlmJA316YMiGo1JgTiafxzaLvkXL9OnLz8qCQy9GnR3cM6tdHq7ldvHwFMyO+xZmk85BZWKB3j+4YPWywOIFw174D+OGnLUi+9BcKCgvg7OSIT4cPRRsPd63m9Vp7BfchiZfba+Q47mk3NXKcyqhSXGVz9epVfPTRRzh79qzSvJJnXzDOIdGMjpM/Q9uRQxA9cCRSk5Lh0NIVA1Z/j7ysbOxbtKTUfdqOHIru4SFYFzgW1xP+RN1WLdB/+SI8zszE2W1xL5WHlUMdzL52rszC0djcHON2/4JL+w9hzrvtYPNWfQyMXoKCnBzsmfe06i7IeYz9kcvw95lzKMh5jHqtPdAvagHyc3JweHn0S+VFBABnks5j45Zf0MC5frlxpsbG6N+rJxo414eJiQlOJp5GSFgETEyM0btH95c6963bqfD264mLJ0q/f8OjRzkYMnoc3Fo0x09rVuLajZv4YvosmJoYY0j/p232hFOJ8HR7F5+NHgELc3Ns/vU3fPLZJPwYvRyN3lavhU6aw2frqVYpCpJx48bB0dERe/bsgZOTE44fP4579+5hwoQJ+Oabb3SdXpXh6NEKp3/5Dee27wQA3Lt+Ay37/g91WrqWuY9bQB8cilqNkz8+nZ19N+UaHN3fRcfJnykVJB6D+qHDpCBYOzrg3rUb2L9oKQ4uWfFSebbq1wuGxlKsGTQSTwoKcDspGbZv1YfP+E/FguRm4hncTHx+pda96zfg2qMb6rfxZEFCLy3n8WN8PnU6Zk35AktWRpcb2+jtBkr/wNdW1MLu/Qdx4tRppYJk09ZtWLF2PW7dToVdLTkC+nyMfh/3fKn8tsbtRH5+AeaEfgUjIyO8Vb8ert24gdXrYzG4X19IJJISHZ3xo0di78FD2HfoDxYkVKlVihujHT16FDNmzEDNmjWhp6cHPT09tG7dGuHh4Rg7dqyu06syrhw+ire9vWDzz29+dk1cUL+1B85t31XmPgZSIxTmKd8FsDA3F3VbtYDePxOkWg8biA9nT8MvU2YgtOG7+PnL6eg28yu4D/B/qTydPFrhr4N/4Mm/hu7O79yL6nYKWNUtfe6RfbMmcPJ0w18HD7/UOYkAYMbcb+H1nic83d5Ve9/zFy7i1JmzaNXieYH/45ZfMP/7Zfhs1Ahs/78NGD96JBYtXY4t27a/VH6JZ87h3ebNYGRkJK5r7e6G9Iy7uHU7tdR9iouLkZPzGNUtOJStS6U95O5llqqsUnRIioqKUK1aNQCAtbU1bt++jQYNGsDBwQEXL17UcXZVx86582Eis0DohRMQioog0dfHL1Nm4ETsT2Xuc37nXrQeNgCnf96GG38mok4LV3gOCYCBkRGqWVshO+0OukydhJ8mTEHill8BAPeuXUetRm+jzYjBiF+7Qe08LeS2uHftutK67DvppW4Lv5mMajWtoW9ggG2h4fhj5Vq1z0cEAL/t3I2k5AvYFLNKrf3advkQ9zMfoKioCJ8OH4qPuz+f8/b9imh8EfQpOnzQDgBgb6fA5asp2Lj5Z3zk20XtHO/euwc7RS2ldVZWluI2eztFiX1WrfsBuXm56Nz+A7XPR5pTtUsJzagUBYmLiwvOnDkDJycnuLm5ISIiAkZGRli2bBmcnJzK3Tc/P7/EffyLIECf//tLaNm7J1r1741V/kNxOykZ9s2a4OMFc5B1O63MwmH7zAhYyG0xOX4vIJHg4Z10HI1ej46TP4NQVIRq1lawrGOPASsj0X/5InE/fQMD5GZliz9PO3cMlg5PJ3U9q/IXPLwtbr9//SZmuDx/FsKLk2zF3wxeWP9Nm06QVjODk/u76D5nOtIvXy23wCIqTWraHcz+dgFWRS5Q+6ZT65cvwePcXJw+ew7fRi6BQ207+HbqgPuZmUi9cwdTZoZj6uznE7KfFBXBvJqZ+HPXXv1wO/XpLbaffe5d23iL2xW15Pjtx/XizyXuZ/HPV6K03563xe1C5LKV+P7bubCytFTrdRG9apWiIPnqq6+Qk5MDAJg1axZ8fX3Rpk0bWFlZYePGjeXuGx4ejunTpyutawEjtIR6f6m8CXp8PRM758zHiY2bAAC3z52HpYM9OgWPL7MgKczLQ8zQ0Vg/YhwsbG2QlZqGNsMHIzc7G4/u3kO1mtYAgHWBY5Fy7ITSvsX/mowc2eV/0Dc0BABUt6uFCQd3YHaz1uL2osJC8c/ZaXcgkyvf4c/cpubTbf90Sp551i25fe48zG1t4BsazIKE1JZ04QLu3c9Ej4Dnl0YWFRUh4VQi1v+4CWePHFC6zPHfnnUlGtSvh7v37mPxslXw7dQBxcVPK4WZX32Bpi7vKO2jp/d8tHzZwm/w5MnT78qd9AwEjBiNnzesEbcbGDw/r7WVFTLu3VM61r379wGgRMGxfdceTJkZjoVzZ73UEBRpFn9FVq1SFCQdO3YU/+zk5ITz58/j/v37qFGjhsoxs9Lu6z9BZqeVPF93RqamEIqLldYVFxVBoqd6KlHxkyd48PfTjkbLPj1xdttOCIKAh+kZyLz1N6yd6uL4hh/L3P/+jeeXqhU/eQIAyLhytdTYq0eP48OwadA3NBQLlYYdPsCDv2+XGMr5N4lEAkOpUZnbicri/m5L/Bobo7QueMZsODk4IHBg/zKLkRcJAAoLn859srayhK1NTdz8+zb8Oncscx+7f922+9l5HOxLf1R9syYumP9dFAoKC2H0T4F/OP44bGpao/a/hnK2xe3ClzPDMG/2dLRr/V6FciftqurzPzShUhQkz1y+fBlXrlxB27ZtYWlpWe69MZ4p7b7+HK4p3dlfd6DzlIm4f+MWUpOSYe/aBD7jP8WRVc//Iu4eFoLqdgpEDxwBALBxro+6rVrg2rETMK1RHd7jP4XCpRHWDBwp7rMtNBy9F0UgL/shzu3YDQOpERxausK0RnXsna/+fUGOb/g/dA35AgOjlyIu7BvYONdD5y8n4LcZz9veXqMCcf/GTdy58BcAoF5rd7SfOAb7Fy972beH3mDVzMzwVv16SutMjU1QvbpMXP9t5BLcSc9AxIxpAID1P25CLbktnP6ZaH0y8TRWxWxA/97/E48xZvhQzPp6PqqZmaKtpwcKCgtx7nwysrMfYnD/vmrn2a1TB3y3fBWCQ2dhxOABuH7zFqJWr8XowOf3IdkWtwuTQ2biy4lBaOrigoy7TzsqxsZSmP8zV49ePT3+s6RSpShI7t27h169emH//v2QSCT466+/4OTkhGHDhqF69er49ttvdZ1ilRA75nP4zfwKfb//FuY2NZF1Ow2HolbjtxlzxBhZLTks6zz/7UxPXw8+Ez6FvIEzigoLcXH/IXzt6YN712+IMX+sXIuCx7lo//lYfBQxAwU5j/H32STsW/D9S+WZl52Nhe0/RN/vvkXwiYN4nPkAe+Z9J17yCwASPT10Dw+FtaMDip88QcaVFGz5IhSHotSbkEhUURl37yE17flDxIqLizEvcglu3U6Fvr4+6tS2w4Qxn6DPvy75/bi7H4yNjbFy7Xp8veh7mJoY46369TCwb++XysG8WjWs+m4hZsz9Bj0HDIXM3ByD+/XB4H7Pi5uNm3/Bk6IizJj7LWbMff5350e+XTAn9KuXOi/Rq1Ap7tQ6YMAApKenY8WKFWjYsCFOnz4NJycn7Nq1C5999hmSkpLUOh7v1EpUOt6plagUr+BOrYn2dTVynGY3r2nkOJVRpeiQ7Nq1Czt37kTt2srjps7Ozrh+vew5A0RERK8DTiFRrVLcGC0nJwempqYl1t+9e1ftS/CIiIjo9VMpCpK2bdti7drnN7SSSCQoLi7G119/jffff1+HmREREf13EolmlqqsUgzZfPPNN/Dy8sKJEydQUFCASZMmISkpCffv38cff/yh6/SIiIj+E172q5rOOySFhYUYNWoUtm7dilatWqF9+/bIyclBjx49cOrUKdSrV0/1QYiIiOi1pvMOiaGhIc6dOwcrK6sSd1wlIiKqCtggUU3nHRLg6WW/K1eu1HUaREREWsGn/aqm8w4JABQUFGDFihXYvXs3WrZsCTMzM6Xt8+bN01FmRERE9CpUioLk3LlzaN68OQDg0qVLStuqekVIRERVH/8pU61SFCT79+/XdQpERERao8eKRKVKUZAQERFVZaxHVKsUk1qJiIjozcYOCRERkZZxPqRqLEiIiIi0TMLxCJX4FhEREZHOsUNCRESkZRyyUY0FCRERkZaxHlGNQzZERESkc+yQEBERaRmHbFRjQUJERKRlrEdU45ANERER6Rw7JERERFrGZ9moxg4JERGRlkkkmlnU9ffff6N///6wsrKCqakpmjVrhpMnT4rbBUFAaGgoFAoFTExM0K5dOyQlJSkdIz8/H2PGjIG1tTXMzMzg5+eHW7duKcVkZmYiICAAMpkMMpkMAQEBePDggVq5siAhIiLSMolEopFFHZmZmXjvvfdgaGiIHTt24Pz58/j2229RvXp1MSYiIgLz5s1DZGQkEhISIJfL0b59ezx8+FCMCQoKwpYtWxAbG4vDhw/j0aNH8PX1RVFRkRjj7++PxMRExMXFIS4uDomJiQgICFDvPRIEQVBrj9fASImFrlMgqpSWZqfoOgWiysfcSuunuNn0bY0cx/70hQrHfvHFF/jjjz9w6NChUrcLggCFQoGgoCBMnjwZwNNuiK2tLebOnYsRI0YgKysLNWvWRExMDHr37g0AuH37Nuzt7bF9+3Z07NgRycnJaNSoEeLj4+Hm5gYAiI+Ph4eHBy5cuIAGDRpUKF92SIiIiLRMU0M2+fn5yM7OVlry8/NLPefWrVvRsmVLfPzxx7CxsYGrqyuWL18ubk9JSUFaWho6dOggrpNKpfDy8sKRI0cAACdPnkRhYaFSjEKhgIuLixhz9OhRyGQysRgBAHd3d8hkMjGmIliQEBERaZmmCpLw8HBxnsazJTw8vNRzXr16FUuWLIGzszN27tyJkSNHYuzYsVi7di0AIC0tDQBga2urtJ+tra24LS0tDUZGRqhRo0a5MTY2NiXOb2NjI8ZUBK+yISIiek0EBwdj/PjxSuukUmmpscXFxWjZsiXCwsIAAK6urkhKSsKSJUswYMAAMe7FuSmCIKicr/JiTGnxFTnOv7FDQkREpGUSPYlGFqlUCgsLC6WlrIKkVq1aaNSokdK6hg0b4saNGwAAuVwOACW6GOnp6WLXRC6Xo6CgAJmZmeXG3Llzp8T5MzIySnRfysOChIiISMt0cdnve++9h4sXLyqtu3TpEhwcHAAAjo6OkMvl2L17t7i9oKAABw8ehKenJwCgRYsWMDQ0VIpJTU3FuXPnxBgPDw9kZWXh+PHjYsyxY8eQlZUlxlQEh2yIiIiqoM8++wyenp4ICwtDr169cPz4cSxbtgzLli0D8HSYJSgoCGFhYXB2doazszPCwsJgamoKf39/AIBMJsPQoUMxYcIEWFlZwdLSEhMnTkTjxo3h4+MD4GnXpVOnTggMDERUVBQAYPjw4fD19a3wFTYACxIiIiKt08WdWt99911s2bIFwcHBmDFjBhwdHbFgwQL069dPjJk0aRJyc3MxatQoZGZmws3NDbt27YK5ubkYM3/+fBgYGKBXr17Izc2Ft7c3oqOjoa+vL8asX78eY8eOFa/G8fPzQ2RkpFr58j4kRG8Q3oeEqBSv4D4k6a0aqQ6qAJvj5zVynMqIc0iIiIhI5zhkQ0REpGXq3vb9TcSChIiISMtYj6jGgoSIiEjL2CFRjXNIiIiISOfYISEiItIyNkhUY0FCRESkZRyyUY1DNkRERKRz7JAQERFpmYS//qvEgoSIiEjLOGSjGms2IiIi0jl2SIiIiLRNjx0SVViQEBERaRuHbFR6qSGbmJgYvPfee1AoFLh+/ToAYMGCBfjll180mhwREVFVIJFINLJUZWoXJEuWLMH48ePRpUsXPHjwAEVFRQCA6tWrY8GCBZrOj4iIiN4AahckixcvxvLlyzFlyhTo6+uL61u2bImzZ89qNDkiIqIqQU+imaUKU3sOSUpKClxdXUusl0qlyMnJ0UhSREREVUoVH27RBLU7JI6OjkhMTCyxfseOHWjUqJEmciIiIqI3jNodks8//xyjR49GXl4eBEHA8ePH8cMPPyA8PBwrVqzQRo5ERESvNUkVH27RBLULksGDB+PJkyeYNGkSHj9+DH9/f9jZ2WHhwoXo06ePNnIkIiJ6vXHIRiW1C5IHDx4gMDAQgYGBuHv3LoqLi2FjYwMAuHz5MurXr6/xJImIiKhqU3sOSZcuXZCXlwcAsLa2FouRixcvol27dhpNjoiIqCqQ6Ek0slRlahckNWrUQPfu3fHkyRNxXXJyMtq1a4eePXtqNDkiIqIqQSLRzFKFqV2QbNq0CTk5OfD394cgCDh37hzatWuHvn37YuHChdrIkYiIiKo4tQsSY2NjbNu2DX/99Rc+/vhjeHt7Y8CAAZg3b5428iMiInr98cZoKlVoUmt2drbSzxKJBBs3boSPjw969uyJqVOnijEWFhaaz5KIiOg1VtWfQ6MJEkEQBFVBenp6pb6Zz3aVSCQQBAESiUR8to0ujZSwKCIqzdLsFF2nQFT5mFtp/RQ53T01chyzn49o5DiVUYU6JPv379d2HkRERPQGq1BB4uXlpe08iIiIqi4O2aik9o3Rnnn8+DFu3LiBgoICpfVNmjT5z0kRERFVJRK1LyF586hdkGRkZGDw4MHYsWNHqdsrwxwSIiIier2oXbMFBQUhMzMT8fHxMDExQVxcHNasWQNnZ2ds3bpVGzkSERG93nhjNJXULkj27duH+fPn491334Wenh4cHBzQv39/REREIDw8XBs5EhERvdZ0cev40NBQSCQSpUUul4vbBUFAaGgoFAoFTExM0K5dOyQlJSkdIz8/H2PGjIG1tTXMzMzg5+eHW7duKcVkZmYiICAAMpkMMpkMAQEBePDggdrvkdoFSU5Ojvj8GktLS2RkZAAAGjdujD///FPtBIiIiEg73nnnHaSmporL2bNnxW0RERGYN28eIiMjkZCQALlcjvbt2+Phw4diTFBQELZs2YLY2FgcPnwYjx49gq+vr9L0DH9/fyQmJiIuLg5xcXFITExEQECA2rmqPYekQYMGuHjxIurWrYtmzZohKioKdevWxdKlS1GrVi21EyAiIqrydDTcYmBgoNQVeUYQBCxYsABTpkxBjx49AABr1qyBra0tNmzYgBEjRiArKwsrV65ETEwMfHx8AADr1q2Dvb099uzZg44dOyI5ORlxcXGIj4+Hm5sbAGD58uXw8PDAxYsX0aBBgwrn+lJzSFJTUwEAISEhiIuLQ506dbBo0SKEhYWpezgiIqKqT0O3js/Pz0d2drbSkp+fX+Zp//rrLygUCjg6OqJPnz64evUqACAlJQVpaWno0KGDGCuVSuHl5YUjR57efO3kyZMoLCxUilEoFHBxcRFjjh49CplMJhYjAODu7g6ZTCbGVPgtqmjgvn378OTJE/Tr1w+DBg0CALi6uuLatWtISEjAzZs30bt3b7VOTkRERBUXHh4uztV4tpQ1f9PNzQ1r167Fzp07sXz5cqSlpcHT0xP37t1DWloaAMDW1lZpH1tbW3FbWloajIyMUKNGjXJjnk3j+DcbGxsxpqIqPGTTvn17pKamiid2d3fHpk2bYGdnh+bNm6t1UiIiojeJpp5lExwcjPHjxyutk0qlpcZ27txZ/HPjxo3h4eGBevXqYc2aNXB3dy81r2ePgSnPizFlPVpG3ddc4Q7Ji4+8SUpKKrdNRERERP/Q0JCNVCqFhYWF0lJWQfIiMzMzNG7cGH/99Zc4r+TFLkZ6errYNZHL5SgoKEBmZma5MXfu3ClxroyMjBLdF5VvkVrRREREpL5KcB+S/Px8JCcno1atWnB0dIRcLsfu3bvF7QUFBTh48CA8PZ8+CLBFixYwNDRUiklNTcW5c+fEGA8PD2RlZeH48eNizLFjx5CVlSXGVFSFh2yeXcNc1s9ERERUeUycOBHdunVDnTp1kJ6ejlmzZiE7OxsDBw6ERCJBUFAQwsLC4OzsDGdnZ4SFhcHU1BT+/v4AAJlMhqFDh2LChAmwsrKCpaUlJk6ciMaNG4tX3TRs2BCdOnVCYGAgoqKiAADDhw+Hr6+vWlfYAGoUJIIgwNvbGwYGT3d5/PgxunXrBiMjI6U43ouEiIhImS5+gb916xb69u2Lu3fvombNmnB3d0d8fDwcHBwAAJMmTUJubi5GjRqFzMxMuLm5YdeuXTA3NxePMX/+fBgYGKBXr17Izc2Ft7c3oqOjoa+vL8asX78eY8eOFa/G8fPzQ2RkpNr5SoQXJ4eUYfr06RU6YEhIiNpJaNpIiYWuUyCqlJZmp+g6BaLKx9xK66fIH+SjkeNIo/do5DiVUYU7JJWh0CAiIqKqSe07tRIREZF6OOdSNRYkRERE2qbmg/HeRLzsl4iIiHSOHRIiIiJt45CNSmp1SAoLC/H+++/j0qVL2sqHiIioypHoSTSyVGVqFSSGhoY4d+4cJ+cQERGRRqk9h2TAgAFYuXKlNnIhIiKqmirBreMrO7XnkBQUFGDFihXYvXs3WrZsCTMzM6Xt8+bN01hyREREVUIVH27RBLULknPnzqF58+YAUGIuCYdyiIiISuK/j6qpXZDs379fG3kQERHRG+w/XfZ769YtSCQS2NnZaSofjViac1PXKRBVSrMtHXWdAlGlMyXvvvZPwiEbldSe1FpcXIwZM2ZAJpPBwcEBderUQfXq1TFz5kwUFxdrI0ciIqLXGye1qqR2h2TKlClYuXIl5syZg/feew+CIOCPP/5AaGgo8vLyMHv2bG3kSURERFWY2gXJmjVrsGLFCvj5+YnrmjZtCjs7O4waNYoFCRER0YuqeHdDE9QuSO7fv4+33367xPq3334b9++/gnE4IiKi1w0LEpXUnkPStGlTREZGllgfGRmJpk2baiQpIiIierOo3SGJiIhA165dsWfPHnh4eEAikeDIkSO4efMmtm/fro0ciYiIXm96av/+/8ZR+x3y8vLCpUuX8NFHH+HBgwe4f/8+evTogYsXL6JNmzbayJGIiOj1xqtsVHqp+5AoFApOXiUiIiKN+U83RiMiIqIKqOLdDU1gQUJERKRtLEhUYkFCRESkbZzUqhLfISIiItI5dkiIiIi0jUM2KlWoIHF1dYWkgm/mn3/++Z8SIiIiqnJYkKhUoYKke/fuWk6DiIiI3mQVKkhCQkK0nQcREVHVxQ6JSpxDQkREpG28ykYltQuSoqIizJ8/Hz/++CNu3LiBgoICpe184i8RERGpS+2Sbfr06Zg3bx569eqFrKwsjB8/Hj169ICenh5CQ0O1kCIREdFrjs+yUUntgmT9+vVYvnw5Jk6cCAMDA/Tt2xcrVqzAtGnTEB8fr40ciYiIXm8sSFRSuyBJS0tD48aNAQDVqlVDVlYWAMDX1xe//fabZrMjIiIijQgPD4dEIkFQUJC4ThAEhIaGQqFQwMTEBO3atUNSUpLSfvn5+RgzZgysra1hZmYGPz8/3Lp1SykmMzMTAQEBkMlkkMlkCAgIwIMHD9TKT+2CpHbt2khNTQUA1K9fH7t27QIAJCQkQCqVqns4IiKiqk/HHZKEhAQsW7YMTZo0UVofERGBefPmITIyEgkJCZDL5Wjfvj0ePnwoxgQFBWHLli2IjY3F4cOH8ejRI/j6+qKoqEiM8ff3R2JiIuLi4hAXF4fExEQEBASolaPaBclHH32EvXv3AgDGjRuHqVOnwtnZGQMGDMCQIUPUPRwREVGVJ9HT08jyMh49eoR+/fph+fLlqFGjhrheEAQsWLAAU6ZMQY8ePeDi4oI1a9bg8ePH2LBhAwAgKysLK1euxLfffgsfHx+4urpi3bp1OHv2LPbs2QMASE5ORlxcHFasWAEPDw94eHhg+fLl2LZtGy5evFjhPNW+ymbOnDnin//3v/+hdu3aOHLkCOrXrw8/Pz91D0dERFT1aWj+R35+PvLz85XWSaXSckcoRo8eja5du8LHxwezZs0S16ekpCAtLQ0dOnRQOpaXlxeOHDmCESNG4OTJkygsLFSKUSgUcHFxwZEjR9CxY0ccPXoUMpkMbm5uYoy7uztkMhmOHDmCBg0aVOi1/ecLo93d3TF+/HgWI0RERFoWHh4uztN4toSHh5cZHxsbi5MnT5Yak5aWBgCwtbVVWm9raytuS0tLg5GRkVJnpbQYGxubEse3sbERYyripQqSmJgYvPfee1AoFLh+/ToAYMGCBfjll19e5nBERERVm4bmkAQHByMrK0tpCQ4OLvWUN2/exLhx47B+/XoYGxuXk5py90YQBJXPr3sxprT4ihzn39QuSJYsWYLx48ejS5cuePDggTippXr16liwYIG6hyMiIqr6NFSQSKVSWFhYKC1lDdecPHkS6enpaNGiBQwMDGBgYICDBw9i0aJFMDAwEDsjL3Yx0tPTxW1yuRwFBQXIzMwsN+bOnTslzp+RkVGi+1IetQuSxYsXY/ny5ZgyZQr09fXF9S1btsTZs2fVPRwRERFpgbe3N86ePYvExERxadmyJfr164fExEQ4OTlBLpdj9+7d4j4FBQU4ePAgPD09AQAtWrSAoaGhUkxqairOnTsnxnh4eCArKwvHjx8XY44dO4asrCwxpiLUntSakpICV1fXEuulUilycnLUPRwREVHVp4Nn2Zibm8PFxUVpnZmZGaysrMT1QUFBCAsLg7OzM5ydnREWFgZTU1P4+/sDAGQyGYYOHYoJEybAysoKlpaWmDhxIho3bgwfHx8AQMOGDdGpUycEBgYiKioKADB8+HD4+vpWeEIr8BIFiaOjIxITE+Hg4KC0fseOHWjUqJG6hyMiIqr6KuldVidNmoTc3FyMGjUKmZmZcHNzw65du2Bubi7GzJ8/HwYGBujVqxdyc3Ph7e2N6OhopVGS9evXY+zYseLVOH5+foiMjFQrF4kgCII6O6xevRpTp07Ft99+i6FDh2LFihW4cuUKwsPDsWLFCvTp00etBLTicZauMyCqlGZbOuo6BaJKZ0qe9h8KWxQ2XCPH0f9ymUaOUxmp3SEZPHgwnjx5gkmTJuHx48fw9/eHnZ0dFi5cWDmKESIiosqmknZIKhO1CxIACAwMRGBgIO7evYvi4mLx+uO///4bdnZ2Gk2QiIjotceCRKX/NMvG2tpavPHJmDFjUL9+fU3lRURERG+QChckDx48QL9+/VCzZk0oFAosWrQIxcXFmDZtGpycnBAfH49Vq1ZpM1ciIqLXk56eZpYqrMJDNl9++SV+//13DBw4EHFxcfjss88QFxeHvLw87NixA15eXtrMk4iI6PXFIRuVKlyQ/Pbbb1i9ejV8fHwwatQo1K9fH2+99RbvzkpERKQKCxKVKtz/uX37tnifEScnJxgbG2PYsGFaS4yIiIjeHBXukBQXF8PQ0FD8WV9fH2ZmZlpJioiIqEqp4vM/NKHCBYkgCBg0aJD4EJ+8vDyMHDmyRFGyefNmzWZIRET0uuOQjUoVLkgGDhyo9HP//v01ngwRERG9mSpckKxevVqbeRAREVVd7JCo9FJ3aiUiIiI1sCBRibNsiIiISOfYISEiItI2XmWjEgsSIiIibeOQjUos2YiIiEjn2CEhIiLSNnZIVGJBQkREpG0SDkiowoKEiIhI2/TYIVGFJRsRERHpHDskRERE2sYhG5VYkBAREWkbJ7WqxJKNiIiIdI4dEiIiIm3jnVpVYkFCRESkbRyyUYklGxEREekcOyRERETaxqtsVGJBQkREpG0cslGJJRsRERHpHDskRERE2sarbFRiQUJERKRtHLJRiQUJERGRtnFSq0p8h4iIiKqgJUuWoEmTJrCwsICFhQU8PDywY8cOcbsgCAgNDYVCoYCJiQnatWuHpKQkpWPk5+djzJgxsLa2hpmZGfz8/HDr1i2lmMzMTAQEBEAmk0EmkyEgIAAPHjxQO18WJERERNqmJ9HMoobatWtjzpw5OHHiBE6cOIEPPvgAH374oVh0REREYN68eYiMjERCQgLkcjnat2+Phw8fiscICgrCli1bEBsbi8OHD+PRo0fw9fVFUVGRGOPv74/ExETExcUhLi4OiYmJCAgIUPstkgiCIKi9V2X3OEvXGRBVSrMtHXWdAlGlMyXvvtbPUbRhrkaOo+8/+T/tb2lpia+//hpDhgyBQqFAUFAQJk9+esz8/HzY2tpi7ty5GDFiBLKyslCzZk3ExMSgd+/eAIDbt2/D3t4e27dvR8eOHZGcnIxGjRohPj4ebm5uAID4+Hh4eHjgwoULaNCgQYVzY4eEiIjoNZGfn4/s7GylJT8/X+V+RUVFiI2NRU5ODjw8PJCSkoK0tDR06NBBjJFKpfDy8sKRI0cAACdPnkRhYaFSjEKhgIuLixhz9OhRyGQysRgBAHd3d8hkMjGmoliQEBERaZtEopElPDxcnKvxbAkPDy/ztGfPnkW1atUglUoxcuRIbNmyBY0aNUJaWhoAwNbWVine1tZW3JaWlgYjIyPUqFGj3BgbG5sS57WxsRFjKopX2RAREWmbhq6yCQ4Oxvjx45XWSaXSMuMbNGiAxMREPHjwAJs2bcLAgQNx8ODB52m9cDmyIAgl1r3oxZjS4itynBexQ0JERPSakEql4lUzz5byChIjIyPUr18fLVu2RHh4OJo2bYqFCxdCLpcDQIkuRnp6utg1kcvlKCgoQGZmZrkxd+7cKXHejIyMEt0XVViQEBERaZsOrrIpjSAIyM/Ph6OjI+RyOXbv3i1uKygowMGDB+Hp6QkAaNGiBQwNDZViUlNTce7cOTHGw8MDWVlZOH78uBhz7NgxZGVliTEVxSEbIiIibdPBnVq//PJLdO7cGfb29nj48CFiY2Nx4MABxMXFQSKRICgoCGFhYXB2doazszPCwsJgamoKf39/AIBMJsPQoUMxYcIEWFlZwdLSEhMnTkTjxo3h4+MDAGjYsCE6deqEwMBAREVFAQCGDx8OX19fta6wAViQEBERVUl37txBQEAAUlNTIZPJ0KRJE8TFxaF9+/YAgEmTJiE3NxejRo1CZmYm3NzcsGvXLpibm4vHmD9/PgwMDNCrVy/k5ubC29sb0dHR0NfXF2PWr1+PsWPHilfj+Pn5ITIyUu18eR8SojcI70NCVNIruQ/JTws0chz9/wVp5DiVETskRERE2qaB+R9VHQsSIiIibePD9VTiO0REREQ6xw4JERGRtungKpvXTaUqSPLy8mBsbKzrNIiIiDSLQzYq6fwdKi4uxsyZM2FnZ4dq1arh6tWrAICpU6di5cqVOs6OiIiIXgWdFySzZs1CdHQ0IiIiYGRkJK5v3LgxVqxYocPMiIiINKSS3Km1MtN5QbJ27VosW7YM/fr1U7rRSpMmTXDhwgUdZkZERKQhEj3NLFWYzl/d33//jfr165dYX1xcjMLCQh1kRERERK+azguSd955B4cOHSqx/v/+7//g6uqqg4yIiIg0TCLRzFKF6fwqm5CQEAQEBODvv/9GcXExNm/ejIsXL2Lt2rXYtm2brtMjIiL67/R0/vt/pafzd6hbt27YuHEjtm/fDolEgmnTpiE5ORm//vqr+AAgIiIiqtp03iG5efMmOnbsiI4dO5bYFh8fD3d3dx1kVTVFrYzGrn37cfXadRhLpXBt2hgTx42BU12Hcvfbuj0OK6LX4vrNmzCvVg1tPD0w6bOxqFG9utZyvfjXZcyc8zXOJJ2HzMICvXt+hNHDh0LyT8ty1979+OH/NiH54iUUFBbC2ckRn44MRBtPD63lRFWXRF8fbadOhkufj2Fma4NHaXdwJuYHHA7/BqjA80dre7ghYPevyEhKxgo3L63mWvOdhui4IAKKls2Rdz8Tf65cg8NhXz/PxdMNH8wOhdVbzjA0NUHWjZs4tWINji9eotW8SIUqPtyiCTrvkLRv3x737t0rsf6PP/5Ap06ddJBR1XX8zz/Rr/fH+HHtSqxeshhFRUUY+skYPM7NLXOfE6cSMXlqKP7X/UNs+ykWCyLCcTbpPL6aMful87h1+zYauLYqc/ujR48w5JNPYVOzJn5aF42pkydiVcx6rI7ZIMYk/HkKnu6tsCxyATavXwO3d1vik3ETcP7CxZfOi95cnhPHofmwwdgZNAlRzdyx78tQuH/2Kd4dNVzlvlILc/it/B4p+3//z3nIHOzLffKskbk5/H/bjEepaVj9ng92jv8C7kGfwm3caDGmMOcxTixZjhgfX0Q1c8cfc76FV+iXcB068D/nR/8Br7JRSecdkjZt2qBDhw44cOAAzM3NAQC///47unXrhtDQUN0mV8Ws/G6R0s/hodPg4d0RSeeT8W6L5qXuc/rsOdgpamGAf28AgL2dHXr3/Agr1sQoxW365VesWBODW3/fhp2iFgL69ka/Xv97qTy3bo9Dfn4B5syYBiMjI7xVvx6uXb+B1es2YHCAPyQSCaZ8Pl5pn/FjRmHvgYPYd/AQGr3d4KXOS28uO7d3cWnbDlyO2w0AyLp+E+/06olaLZqp3Ldz5HwkbdyE4qIiNOjWpcT2JgP84TF+LKrXrYMH12/gxHfLcHLZqpfK06XP/2BgbIxfh41GUUEBMs4nw9K5HtzGfoJjC78DANw5fRZ3Tp8V98m6fhMNPvSF/XvuOLVyzUudlzSAHRKVdF5uLVu2DI6OjujatSvy8vKwf/9+dO3aFTNmzMBnn32m6/SqtIePHgEAZDJZmTGuTZog7U46Dh76A4Ig4O69e9i5Zx+8Wr8nxvy4+WfMj1yCz0Z/gu2bN2L8p6Ow6Pul2LL15SYlJ545i3dbNFe6UV5rT3ekZ2Tg1u3bpe5TXFyMnMePUV1m8VLnpDfbzSPxqPt+W1jWrwcAsGn8Dmp7uokFSlmaDPBHDae6+H3W3FK3NxsyAO1Cp+BAyCwsbeaOA9NmoW3Il2jcv89L5Wnn/i5uHPoDRQUF4rqru/fB3E4BWd06pe5j27Qxaru3wo1DR17qnESvis47JBKJBD/88AO6du0Kb29vnDlzBuHh4fj0008rtH9+fj7y8/OV1kmL8iGVSrWRbpUhCALCv12AFq5N8dY/fwmXpnmzJvhm9gwEfTEFBQX5ePKkCB94tcXUyZ+LMd8vX4kvxo9DB+/3ATztoly+ehUbN23BR36+aud299592ClqKa2zsrR8uu3uPdjb2ZXYZ1XMeuTm5qJzBx+1z0d09JuFkMosMPLMMRQXFUFPXx8HQmbh/I+by9ynRj0nvD9zGmK8u0IoKio1pnXwROz5Yiou/vK0OM+6dgPWDRug+dBBOLsuVu08q9naIuv6DaV1OekZz7dde75tzOVzMK1pBT0DAxyaNReJq5W7mvSK8SoblXRSkJw5c6bEupCQEPTt2xf9+/dH27ZtxZgmTZqUe6zw8HBMnz5d+VhfTkbolGDNJVwFzZjzNS79dRkbVi8rN+7ylauYFfEtRg8fitYe7si4excRCxYjZHY4wkKn4v79TKSm3cGUGbMwdWaYuN+ToiKYV6sm/ty1Z2/cTk0D8LQYAgBXz+eT/xS15Pht00bxZ0mJ9qZQxnpg246diFy6HN/P/0YsXIjU0ejjHmjctxd+HjgcGeeTYdu0Mdp/HYaHqWmlFg4SPT10X7MMh2bOwf3LV0o9pqm1FWT2teG7dBG6fr9AXK9nYIC8rGzx5+F/HoGsTu1/Dvz08/353eeFRdaNW1jW3FP8WXhhku2z78SL69f6dIGRmRns3N7F+zOn4f6Vq+UWWKRlHLJRSScFSbNmzSCRSJS+QM9+joqKwrJlyyAIAiQSCYrK+M3jmeDgYIwfrzyfQFqUp5W8q4qZc77GvoO/Y93KKMhtbcuNjVq9Bs2bNcGwgQEAgLffcoaJiQn6DRmOoNGfQO+fZyvMnDoFTV3eUdpXT//5bwTLFi/AkydPAAB30jMQEDgSP8euE7cbGDz/KFpbWSLjrvJE53v3MwEAVlbKBcf2nbsxZcYsLIwIh6d72RNlicrjHT4dR75egPP/9/Qf7IykZMjq2MPz86BSCxIj82pQtGwOebMm6LggAsDTIkWip4fgR+nY4NsTd88/ffTFb6OCcPv4SaX9i4uf/70W270X9A0MAQDmdrUQsHsbVrR6XqwXPXl+x+pHd+6gmq2N0rFMa1oDAHLS05XWP+uWZCQlw8ymJtp+NZkFCVVqOilIUlJSNHYsqVRacnjmserL9N5EgiBg5txvsHvfAcQsX1Lq0MeL8nLzoG+gr7RO/5/WoyAIsLayhq2NDW7e+ht+Xcq+KurfQzDPjudQx77U2GZNGmN+5BIUFBbCyPDpX9SHj8bDpmZN1FYoxLhtO3biy+mzMC98Jtq1aa3ytRCVxcDEBEJxsdI6oagIkjLa7PnZD7Gs+XtK61qMGAKHdm2wue9gPLh2HYWPHyP71m3UcKyLpNifyjx39o1b4p+Li54W7ZlXS/878u/4BLSbMRV6hoYo/ufRGk4+7+Ph37eVhmteJJFIoM9hbN2q4lfIaIJOChIHh/Lve0HaMT08Att27MT387+BmZkpMu7eBQCYV6sGY2NjAMC3i77DnfR0RMx6Ogz2vlcbTJ05Gxt+/AltPD2Qfvcuwr6ehyYu78DWpiYAYMyIYZj19beoVs0Mbd/zQEFBIc6dT0Z2djYGB/RTO89unTvhu2UrEDxtOkYMHYzrN24galU0RgcOE9vT23bsxORpofjy8wlo2thFfC3GUmOYm1cr7/BEJfy1PQ7vTZ6A7Ju3kJF8AfKmTdBq7CicXrNejGk3cyrMFbXw69BRgCAg43yy0jFyMu6iKC9faf2h2XPR4dtw5Gc/xJWde6AvNUKtFq4wrl4dxxd9r3aeSRt/Qpspk9BtxXc4Mnc+LOs7wXPSeKX7kLQYMRTZN2/h7sW/AAD277nDLehTnFhS/vAsaRmHbFTS+aTWZ86fP48bN26g4F+zxwHAz89PRxlVPT/83yYAQEDgSKX14dOnocc/k08z7t5FatodcVsPP1/k5ORg/cb/w9z5C2FezRzurVri83HPJx1/3KM7jE2MsXLNOny9YDFMTUzwVv16GNjv5a4kMDevhlVLIjEjPAI9+w2EzMIcg/v7Y3CAvxizcdMWPHlShBnhEZgRHiGu/6hbV8yZEfJS56U3167PvoBXyJfotOgbmNa0xqPUNJxaGY1Ds5//Q19NbguZfW21jpu4OgaFjx/D/bMx+CAsFIU5j5GedB4Ji5e+VJ752Q+xoWsPdFr4NYYc2Yu8zAc4vuh78ZJf4OnQUbuZ01C9bh0UPynCg6sp2P/VdPy5Ivqlzkn0qkiEF2dCvWJXr17FRx99hLNnzyrNK3n2m7CqOSSlepylyRSJqozZlo66ToGo0invZnSaUnRA/auqSqPf7uV+0Xsd6HxQa9y4cXB0dMSdO3dgamqKpKQk/P7772jZsiUOHDig6/SIiIj+Oz2JZpYqTOdDNkePHsW+fftQs2ZN6OnpQU9PD61bt0Z4eDjGjh2LU6dO6TpFIiIi0jKdd0iKiopQ7Z/7VVhbW+P2P3fidHBwwMWLfC4JERFVAXyWjUo675C4uLjgzJkzcHJygpubGyIiImBkZIRly5bByclJ1+kRERH9d7zKRiWdlFtnzpxB8T/X/H/11VfiRNZZs2bh+vXraNOmDbZv345FixaVdxgiIqLXAzskKumkQ+Lq6orU1FTY2Njgk08+QUJCAgDAyckJ58+fx/3791GjRo1SbxNOREREVY9Oyq3q1auLd2u9du2a2C15xtLSksUIERFVGRKJRCNLVaaTDknPnj3h5eWFWrVqQSKRoGXLltDX1y819urVq684OyIiIg2r4sMtmqCTgmTZsmXo0aMHLl++jLFjxyIwMBDm5ua6SIWIiIgqAZ1dZdOp09MHsZ08eRLjxo1jQUJERFWXDjok4eHh2Lx5My5cuAATExN4enpi7ty5aNCggRgjCAKmT5+OZcuWITMzE25ubvjuu+/wzjvPn96en5+PiRMn4ocffkBubi68vb3x/fffo3bt549SyMzMxNixY7F161YATx/7snjxYlSvXr3C+eq8h7R69WoWI0REVLXp4E6tBw8exOjRoxEfH4/du3fjyZMn6NChA3JycsSYiIgIzJs3D5GRkUhISIBcLkf79u3x8OFDMSYoKAhbtmxBbGwsDh8+jEePHsHX11fp0S7+/v5ITExEXFwc4uLikJiYiICAALXy1fmzbLSCz7IhKhWfZUNU0qt4lk3x8W0aOY5eK9+X3jcjIwM2NjY4ePAg2rZtC0EQoFAoEBQUhMmTJwN42g2xtbXF3LlzMWLECGRlZaFmzZqIiYlB7969AQC3b9+Gvb09tm/fjo4dOyI5ORmNGjVCfHw83NzcAADx8fHw8PDAhQsXlDoy5b62l35lREREVDEaug9Jfn4+srOzlZb8/PwKpZCV9fSXdUtLSwBASkoK0tLS0KFDBzFGKpXCy8sLR44cAfB0WkVhYaFSjEKhgIuLixhz9OhRyGQysRgBAHd3d8hkMjGmIliQEBERaZtEopElPDwcMplMaQkPD1d5ekEQMH78eLRu3RouLi4AgLS0NACAra2tUqytra24LS0tDUZGRqhRo0a5MTY2NiXOaWNjI8ZUhM5vHU9EREQVExwcjPHjxyutk0qlKvf79NNPcebMGRw+fLjEthfvbyIIgsp7nrwYU1p8RY7zb+yQEBERaZuGhmykUiksLCyUFlUFyZgxY7B161bs379f6coYuVwOACW6GOnp6WLXRC6Xo6CgAJmZmeXG3Llzp8R5MzIySnRfysOChIiISNs0NGSjDkEQ8Omnn2Lz5s3Yt28fHB2VJ7U7OjpCLpdj9+7d4rqCggIcPHgQnp6eAIAWLVrA0NBQKSY1NRXnzp0TYzw8PJCVlYXjx4+LMceOHUNWVpYYUxEcsiEiItI2HdyHZPTo0diwYQN++eUXmJubi50QmUwGExMTSCQSBAUFISwsDM7OznB2dkZYWBhMTU3h7+8vxg4dOhQTJkyAlZUVLC0tMXHiRDRu3Bg+Pj4AgIYNG6JTp04IDAxEVFQUAGD48OHw9fWt8BU2AAsSIiKiKmnJkiUAgHbt2imtX716NQYNGgQAmDRpEnJzczFq1Cjxxmi7du1Suj/Y/PnzYWBggF69eok3RouOjlZ65Mv69esxduxY8WocPz8/REZGqpUv70NC9AbhfUiISnol9yE5vVcjx9Fr6q2R41RG7JAQERFpGx+upxLfISIiItI5dkiIiIi0Tc0rZN5ELEiIiIi0jUM2KvEdIiIiIp1jh4SIiEjbOGSjEgsSIiIibeOQjUp8h4iIiEjn2CEhIiLSNj3+/q8KCxIiIiItk3AOiUosSIiIiLSNc0hU4jtEREREOscOCRERkbZxyEYlFiRERETaxiEblfgOERERkc6xQ0JERKRtHLJRiQUJERGRtvE+JCrxHSIiIiKdY4eEiIhI2zhkoxILEiIiIm3jVTYq8R0iIiIinWOHhIiISNs4ZKMSCxIiIiKtY0GiCgsSIiIibWOHRCXOISEiIiKdY4eEiIhI29ghUYkFCRERkdaxIFGFQzZERESkc+yQEBERaRuHbFRiQUJERKRtrEdU4pANERER6Rw7JERERFrHFokq7JAQERFpm0SimUVNv//+O7p16waFQgGJRIKff/5ZabsgCAgNDYVCoYCJiQnatWuHpKQkpZj8/HyMGTMG1tbWMDMzg5+fH27duqUUk5mZiYCAAMhkMshkMgQEBODBgwdq5cqChIiIqIrKyclB06ZNERkZWer2iIgIzJs3D5GRkUhISIBcLkf79u3x8OFDMSYoKAhbtmxBbGwsDh8+jEePHsHX1xdFRUVijL+/PxITExEXF4e4uDgkJiYiICBArVwlgiAIL/cyK7HHWbrOgKhSmm3pqOsUiCqdKXn3tX4OIe2yRo4jkdd/+X0lEmzZsgXdu3d/mpMgQKFQICgoCJMnTwbwtBtia2uLuXPnYsSIEcjKykLNmjURExOD3r17AwBu374Ne3t7bN++HR07dkRycjIaNWqE+Ph4uLm5AQDi4+Ph4eGBCxcuoEGDBhXKjx0SIiIirZNoZMnPz0d2drbSkp+f/1IZpaSkIC0tDR06dBDXSaVSeHl54ciRIwCAkydPorCwUClGoVDAxcVFjDl69ChkMplYjACAu7s7ZDKZGFMRLEiIiIi0TUNzSMLDw8V5Gs+W8PDwl0opLS0NAGBra6u03tbWVtyWlpYGIyMj1KhRo9wYGxubEse3sbERYyqCV9kQERG9JoKDgzF+/HildVKp9D8dU/LCZFlBEEqse9GLMaXFV+Q4/8YOCRERkdZpZshGKpXCwsJCaXnZgkQulwNAiS5Genq62DWRy+UoKChAZmZmuTF37twpcfyMjIwS3ZfysCAhIiLSNh1d9lseR0dHyOVy7N69W1xXUFCAgwcPwtPTEwDQokULGBoaKsWkpqbi3LlzYoyHhweysrJw/PhxMebYsWPIysoSYyqCQzZERERV1KNHj3D58vMrfFJSUpCYmAhLS0vUqVMHQUFBCAsLg7OzM5ydnREWFgZTU1P4+/sDAGQyGYYOHYoJEybAysoKlpaWmDhxIho3bgwfHx8AQMOGDdGpUycEBgYiKioKADB8+HD4+vpW+AobgAUJERGR9uno4XonTpzA+++/L/78bP7JwIEDER0djUmTJiE3NxejRo1CZmYm3NzcsGvXLpibm4v7zJ8/HwYGBujVqxdyc3Ph7e2N6Oho6OvrizHr16/H2LFjxatx/Pz8yrz3SVl4HxKiNwjvQ0JU0iu5D0nGDY0cR1KzjkaOUxlxDgkRERHpHIdsiIiItEydy1/fVCxIiIiItI0FiUocsiEiIiKdY4eEiIhI69ghUYUFCRERkbZxyEYlFiRERETaxoJEJc4hISIiIp1jh4SIiEjr2CFRhQUJERGRtnHIRiUO2RAREZHOsUNCRESkbWyQqMSChIiISOtYkajCIRsiIiLSOXZIiIiItI2TWlViQUJERKRtLEhU4pANERER6Rw7JERERFrHDokqLEiIiIi0jUM2KrEgISIi0jYWJCpxDgkRERHpHDskREREWscOiSosSIiIiLSNQzYqcciGiIiIdE4iCIKg6ySoasrPz0d4eDiCg4MhlUp1nQ5RpcHvBlFJLEhIa7KzsyGTyZCVlQULCwtdp0NUafC7QVQSh2yIiIhI51iQEBERkc6xICEiIiKdY0FCWiOVShESEsJJe0Qv4HeDqCROaiUiIiKdY4eEiIiIdI4FCREREekcCxIiIiLSORYkpHPXrl2DRCJBYmKirlMhUpsgCBg+fDgsLS0r9Dnm552odHy4HhHRfxAXF4fo6GgcOHAATk5OsLa21nVKRK8lFiT0nxQUFMDIyEjXaRDpzJUrV1CrVi14enrqOhWi1xqHbEgt7dq1w6efforx48fD2toa7du3x/nz59GlSxdUq1YNtra2CAgIwN27d8V94uLi0Lp1a1SvXh1WVlbw9fXFlStXdPgqiDRj0KBBGDNmDG7cuAGJRIK6deuq/XkvLi5GYGAg3nrrLVy/fh0A8Ouvv6JFixYwNjaGk5MTpk+fjidPnryql0WkEyxISG1r1qyBgYEB/vjjD8yZMwdeXl5o1qwZTpw4gbi4ONy5cwe9evUS43NycjB+/HgkJCRg79690NPTw0cffYTi4mIdvgqi/27hwoWYMWMGateujdTUVCQkJKj1eS8oKECvXr1w4sQJHD58GA4ODti5cyf69++PsWPH4vz584iKikJ0dDRmz56tg1dI9AoJRGrw8vISmjVrJv48depUoUOHDkoxN2/eFAAIFy9eLPUY6enpAgDh7NmzgiAIQkpKigBAOHXqlNbyJtKW+fPnCw4ODmVuL+vzfujQIcHHx0d47733hAcPHojxbdq0EcLCwpSOERMTI9SqVUsr+RNVFuyQkNpatmwp/vnkyZPYv38/qlWrJi5vv/02AIht6itXrsDf3x9OTk6wsLCAo6MjAODGjRuvPnkiLavo571v37549OgRdu3aBZlMJq4/efIkZsyYofSdCgwMRGpqKh4/fvxKXwvRq8RJraQ2MzMz8c/FxcXo1q0b5s6dWyKuVq1aAIBu3brB3t4ey5cvh0KhQHFxMVxcXFBQUPDKciZ6VSr6ee/SpQvWrVuH+Ph4fPDBB+L64uJiTJ8+HT169ChxbGNjY63nT6QrLEjoP2nevDk2bdqEunXrwsCg5Mfp3r17SE5ORlRUFNq0aQMAOHz48KtOk+iVUOfz/sknn8DFxQV+fn747bff4OXlBeDpd+rixYuoX7/+K8ubqDJgQUL/yejRo7F8+XL07dsXn3/+OaytrXH58mXExsZi+fLlqFGjBqysrLBs2TLUqlULN27cwBdffKHrtIm0Qt3P+5gxY1BUVARfX1/s2LEDrVu3xrRp0+Dr6wt7e3t8/PHH0NPTw5kzZ3D27FnMmjXrFb4aoleLc0joP1EoFPjjjz9QVFSEjh07wsXFBePGjYNMJoOenh709PQQGxuLkydPwsXFBZ999hm+/vprXadNpBUv83kPCgrC9OnT0aVLFxw5cgQdO3bEtm3bsHv3brz77rtwd3fHvHnz4ODg8IpeBZFuSARBEHSdBBEREb3Z2CEhIiIinWNBQkRERDrHgoSIiIh0jgUJERER6RwLEiIiItI5FiRERESkcyxIiIiISOdYkBBVQaGhoWjWrJn486BBg9C9e/dXnse1a9cgkUiQmJj4ys9NRK8XFiREr9CgQYMgkUggkUhgaGgIJycnTJw4ETk5OVo978KFCxEdHV2hWBYRRKQLfJYN0SvWqVMnrF69GoWFhTh06BCGDRuGnJwcLFmyRCmusLAQhoaGGjnnvx9vT0RUGbFDQvSKSaVSyOVy2Nvbw9/fH/369cPPP/8sDrOsWrUKTk5OkEqlEAQBWVlZGD58OGxsbGBhYYEPPvgAp0+fVjrmnDlzYGtrC3NzcwwdOhR5eXlK218csikuLsbcuXNRv359SKVS1KlTB7NnzwYAODo6AgBcXV0hkUjQrl07cb/Vq1ejYcOGMDY2xttvv43vv/9e6TzHjx+Hq6srjI2N0bJlS5w6dUqD7xwRVWXskBDpmImJCQoLCwEAly9fxo8//ohNmzZBX18fANC1a1dYWlpi+/btkMlkiIqKgre3Ny5dugRLS0v8+OOPCAkJwXfffYc2bdogJiYGixYtgpOTU5nnDA4OxvLlyzF//ny0bt0aqampuHDhAoCnRUWrVq2wZ88evPPOOzAyMgIALF++HCEhIYiMjISrqytOnTqFwMBAmJmZYeDAgcjJyYGvry8++OADrFu3DikpKRg3bpyW3z0iqjIEInplBg4cKHz44Yfiz8eOHROsrKyEXr16CSEhIYKhoaGQnp4ubt+7d69gYWEh5OXlKR2nXr16QlRUlCAIguDh4SGMHDlSabubm5vQtGnTUs+bnZ0tSKVSYfny5aXmmJKSIgAQTp06pbTe3t5e2LBhg9K6mTNnCh4eHoIgCEJUVJRgaWkp5OTkiNuXLFlS6rGIiF7EIRuiV2zbtm2oVq0ajI2N4eHhgbZt22Lx4sUAAAcHB9SsWVOMPXnyJB49egQrKytUq1ZNXFJSUnDlyhUAQHJyMjw8PJTO8eLP/5acnIz8/Hx4e3tXOOeMjAzcvHkTQ4cOVcpj1qxZSnk0bdoUpqamFcqDiOjfOGRD9Iq9//77WLJkCQwNDaFQKJQmrpqZmSnFFhcXo1atWjhw4ECJ41SvXv2lzm9iYqL2PsXFxQCeDtu4ubkpbXs2tCQIwkvlQ0QEsCAheuXMzMxQv379CsU2b94caWlpMDAwQN26dUuNadiwIeLj4zFgwABxXXx8fJnHdHZ2homJCfbu3Ythw4aV2P5szkhRUZG4ztbWFnZ2drh69Sr69etX6nEbNWqEmJgY5ObmikVPeXkQEf0bh2yIKjEfHx94eHige/fu2LlzJ65du4YjR47gq6++wokTJwAA48aNw6pVq7Bq1SpcunQJISEhSEpKKvOYxsbGmDx5MiZNmoS1a9fiypUriI+Px8qVKwEANjY2MDExQVxcHO7cuYOsrCwAT2+2Fh4ejoULF+LSpUs4e/YsVq9ejXnz5gEA/P39oaenh6FDh+L8+fPYvn07vvnmGy2/Q0RUVbAgIarEJBIJtm/fjrZt22LIkCF466230KdPH1y7dg22trYAgN69e2PatGmYPHkyWrRogevXr+OTTz4p97hTp07FhAkTMG3aNDRs2BC9e/dGeno6AMDAwACLFi1CVFQUFAoFPvzwQwDAsGHDsGLFCkRHR6Nx48bw8vJCdHS0eJlwtWrV8Ouvv+L8+fNwdXXFlClTMHfuXC2+O0RUlUgEDvwSERGRjrFDQkRERDrHgoSIiIh0jgUJERER6RwLEiIiItI5FiRERESkcyxIiIiISOdYkBAREZHOsSAhIiIinWNBQkRERDrHgoSIiIh0jgUJERER6RwLEiIiItK5/wdPEej4ckACUAAAAABJRU5ErkJggg==\n",
      "text/plain": [
       "<Figure size 640x480 with 2 Axes>"
      ]
     },
     "metadata": {},
     "output_type": "display_data"
    }
   ],
   "source": [
    "from sklearn.metrics import confusion_matrix\n",
    "import seaborn as sns\n",
    "\n",
    "# Generate predictions on test data\n",
    "y_pred = model.predict(x_test)\n",
    "\n",
    "# Create confusion matrix\n",
    "cm = confusion_matrix(y_test, y_pred, labels=[0, 1])\n",
    "\n",
    "# Create heatmap plot of confusion matrix\n",
    "sns.heatmap(cm, annot=True, cmap='Reds', xticklabels=['real', 'fake'], yticklabels=['real', 'fake'])\n",
    "\n",
    "plt.xlabel('Predicted')\n",
    "plt.ylabel('Real or Fake')\n",
    "plt.title('Multinomial NB Confusion Matrix')"
   ]
  },
  {
   "cell_type": "markdown",
   "id": "b8cfa434",
   "metadata": {},
   "source": [
    "This confusion matrix is showing the performance of the Multinomial Naive Bayes model for classifying news articles as either 'real' or 'fake'. The matrix compares the predicted labels with the true labels for the test data. The x-axis shows the predicted labels, and the y-axis shows the true labels. The diagonal cells represent correct predictions, while the off-diagonal cells represent incorrect predictions. The annotation within each cell represents the number of observations that fall into that cell. The color intensity of each cell indicates the magnitude of the values in the cell, with darker colors indicating higher values. By analyzing the confusion matrix, we can gain insights into the strengths and weaknesses of the Multinomial Naive Bayes classifier for distinguishing between real and fake news articles."
   ]
  },
  {
   "cell_type": "markdown",
   "id": "1c7f987b",
   "metadata": {},
   "source": [
    "### What challenges did you run into? Do you think it was because of the data, the model, the research question? How would you overcome these challenges? (4pts)"
   ]
  },
  {
   "cell_type": "markdown",
   "id": "1f03e513",
   "metadata": {},
   "source": [
    "I faced two main challenges while working with my dataset. First, I had difficulty converting my string data to numerical format for use in machine learning models. However, I was able to overcome this challenge by using CountVectorizer to vectorize my data, and by removing stop words using NLTK's stopwords library.\n",
    "\n",
    "The second challenge I faced was related to memory constraints when using Gaussian Naive Bayes. Since my dataset was too large to fit into memory, I had to subsample the data to train the model. However, I suspect that the subsampled data may not have been representative of the original dataset, as the accuracy of the model on the test data was very low.\n",
    "\n",
    "As alternative solution, I tried another Multinomial Naive Bayes with stopword removed data with different test_size, It didn't show any prominent change. "
   ]
  },
  {
   "cell_type": "markdown",
   "id": "80dd69af",
   "metadata": {},
   "source": [
    "### We learned a little bit about how our models can affect real people in the world. Name 2 potential benefits of your model and 2 potential harms. You can even look at the Wikipedia page on Algorithmic BiasLinks to an external site. for inspiration. Every model has consequences, what can you think of? If your data is really not amenable to this question, simply write about any other example we covered in class, such as the Boston housing dataset or hate speech detectors. (6pts)"
   ]
  },
  {
   "cell_type": "markdown",
   "id": "e02b0b1c",
   "metadata": {},
   "source": [
    "#### Benefit\n",
    "The potential benefits of using a Multinomial Naive Bayes classifier for fake news classification include improved accuracy and scalability. By using this model, you may be able to achieve higher accuracy in classifying fake and real news compared to other models, which can help reduce the spread of misinformation and improve the quality of news sources. Additionally, Multinomial Naive Bayes is a simple and scalable algorithm that can be trained quickly and efficiently on large datasets. This makes it a useful tool for analyzing and classifying large volumes of news data, which is important for identifying patterns and trends in news reporting\n",
    "\n",
    "#### Drawback\n",
    "Using a Multinomial Naive Bayes classifier for fake news classification can have potential drawbacks, such as algorithmic bias and misuse of the model. The classifier may be biased towards certain types of news sources or topics, which can lead to unfair or inaccurate classifications. Moreover, the model may be misused to suppress news sources critical of a particular political party or ideology, which can negatively impact free speech and democracy.\n",
    "\n",
    "To address these concerns, it is essential to evaluate the training data and the model's outputs carefully. Additionally, using the model ethically and responsibly can help prevent the censoring of news sources expressing opinions critical of a particular political party or ideology. Despite these challenges, the Multinomial Naive Bayes classifier remains a useful tool to identify and flag fake news sources."
   ]
  },
  {
   "cell_type": "markdown",
   "id": "cc74d71d",
   "metadata": {},
   "source": [
    "### Name one research question you might ask next for future work (don't worry, you don't have to do it!) Why is it important? (2pts)"
   ]
  },
  {
   "cell_type": "markdown",
   "id": "30d5691f",
   "metadata": {},
   "source": [
    "I believe that future research on Multinomial Naive Bayes in the context of fake news classification could explore the impact of dataset size and diversity on classifier accuracy and bias. By expanding the training dataset and diversifying the columns used to classify real and fake news, we can gain insights into how to improve the performance of the classifier. Additionally, if we can implement or update our fake news dataset in real-time, we may be able to improve the accuracy and reduce the bias of the classifier even further.\n",
    "\n",
    "Another possible research scenario is to compare difference in classifying fake news in languages and cultures.We live in a world where ideas can be translated into different languages, but the question remains: are we learning the same history and politics? Is there a global standard for what constitutes fake news? The Multinomial Naive Bayes classifier can potentially help bridge cultural gaps or differences by allowing us to better understand and classify news sources across different languages and regions."
   ]
  }
 ],
 "metadata": {
  "kernelspec": {
   "display_name": "Python 3 (ipykernel)",
   "language": "python",
   "name": "python3"
  },
  "language_info": {
   "codemirror_mode": {
    "name": "ipython",
    "version": 3
   },
   "file_extension": ".py",
   "mimetype": "text/x-python",
   "name": "python",
   "nbconvert_exporter": "python",
   "pygments_lexer": "ipython3",
   "version": "3.9.13"
  }
 },
 "nbformat": 4,
 "nbformat_minor": 5
}
